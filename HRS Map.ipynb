{
 "cells": [
  {
   "cell_type": "markdown",
   "metadata": {
    "cell_id": "b54b0a99357c4fad8bdb034464cd251b",
    "deepnote_cell_type": "text-cell-h1",
    "formattedRanges": [],
    "is_collapsed": false,
    "tags": []
   },
   "source": [
    "# Redlining by County "
   ]
  },
  {
   "cell_type": "markdown",
   "metadata": {
    "cell_id": "0f7f41e9-eb9a-401e-a21f-f2a9906021cd",
    "deepnote_cell_type": "text-cell-p",
    "formattedRanges": [],
    "is_collapsed": false,
    "tags": []
   },
   "source": [
    "The term redlining comes from the practice of the FHA and the Home Owners' Loan Corporation (HOLC)  is color code neighborhood maps in order to identify how safe it was to insure mortgages in certain neighborhoods. Neighborhoods were graded in four categories: A- “Best” (Green), B- “Still Desirable” (Blue), C- “Defiantly Declining” (Yellow), D- “Hazardous” (Red); this classifications were primarily racially motivated, placing neighborhoods where minorities live in C or D classifications.  \n",
    "In 1968,  the Fair Housing Act was passed, which makes it unlawful to discriminate in terms or conditions in the basis of race or national origin.\n",
    "And in 1974, The Equal Credit Opportunity Act (ECOA) enacted unlawful for any creditor to discriminate against any applicant, with respect to any aspect of a credit transaction, based on race, color, religion, national origin, sex, marital status, or age\n",
    "Using HOLC historical redlining information we decided to plot total area (sq ft) redlined against current county lines. \n",
    "\n"
   ]
  },
  {
   "cell_type": "code",
   "execution_count": null,
   "metadata": {
    "cell_id": "f6495e24ce6e4fed827d830304bc2159",
    "deepnote_cell_type": "code",
    "deepnote_to_be_reexecuted": false,
    "execution_millis": 660,
    "execution_start": 1666016345378,
    "output_cleared": false,
    "source_hash": "7c7a3fa9",
    "tags": []
   },
   "outputs": [],
   "source": [
    "# Load libraries\n",
    "import pandas as pd\n",
    "import numpy as np\n",
    "import altair as alt\n",
    "import geopandas as gpd\n",
    "import pyspark\n",
    "import censusdata\n",
    "from pyspark.sql import SparkSession \n",
    "from pyspark.sql.functions  import col, when, lit\n",
    "from pyspark.sql import functions as f\n",
    "\n",
    "from vega_datasets import data\n",
    "alt.data_transformers.disable_max_rows()\n",
    "\n",
    "from io import StringIO\n",
    "alt.themes.enable(\"fivethirtyeight\") # visualization theme\n"
   ]
  },
  {
   "cell_type": "markdown",
   "metadata": {
    "cell_id": "b70bea072cb44cc480a9b5bca989a6e9",
    "deepnote_cell_type": "text-cell-h3",
    "formattedRanges": [],
    "is_collapsed": false,
    "tags": []
   },
   "source": [
    "### Load dataset HOLC "
   ]
  },
  {
   "cell_type": "markdown",
   "metadata": {
    "cell_id": "407c2b323e294e1f8183ecb2f52a1205",
    "deepnote_cell_type": "text-cell-p",
    "formattedRanges": [],
    "is_collapsed": false,
    "tags": []
   },
   "source": [
    "Calculate Historical Redlining Score (HRS) by calculating the grade weights. "
   ]
  },
  {
   "cell_type": "markdown",
   "metadata": {
    "cell_id": "973855fae1144fd7af8a0c814d7f458f",
    "deepnote_cell_type": "text-cell-number",
    "formattedRanges": [],
    "is_collapsed": false,
    "tags": []
   },
   "source": [
    "undefined. Calculate the percentage of weighted area. Ex. area_A divided by area_rated."
   ]
  },
  {
   "cell_type": "markdown",
   "metadata": {
    "cell_id": "5dbdeda8-85dd-4a88-8df0-f83624954c7f",
    "deepnote_cell_type": "text-cell-number",
    "formattedRanges": [],
    "is_collapsed": false,
    "tags": []
   },
   "source": [
    "undefined. Multiply by the HOLC grade factor : A= 1, B=2, C=3, D=4"
   ]
  },
  {
   "cell_type": "markdown",
   "metadata": {
    "cell_id": "2c43ad6a-ba5a-483f-a581-aac6c4213a9f",
    "deepnote_cell_type": "text-cell-number",
    "formattedRanges": [],
    "is_collapsed": false,
    "tags": []
   },
   "source": [
    "undefined. Final Score. The level of redlining goes from 1-4 with 1 being low redlining and 4 high."
   ]
  },
  {
   "cell_type": "markdown",
   "metadata": {
    "cell_id": "9c14590bf3474f719d74213f48e2406c",
    "deepnote_cell_type": "text-cell-p",
    "formattedRanges": [
     {
      "fromCodePoint": 35,
      "ranges": [],
      "toCodePoint": 68,
      "type": "link",
      "url": "https://ncrc.org/redlining-score/"
     }
    ],
    "is_collapsed": false,
    "tags": []
   },
   "source": [
    "This methodology was obtained from https://ncrc.org/redlining-score/"
   ]
  },
  {
   "cell_type": "code",
   "execution_count": null,
   "metadata": {
    "cell_id": "8e5e839abccf4ad280711cbb7016abef",
    "deepnote_cell_type": "code",
    "deepnote_table_loading": false,
    "deepnote_table_state": {
     "filters": [],
     "pageIndex": 0,
     "pageSize": 10,
     "sortBy": []
    },
    "deepnote_to_be_reexecuted": false,
    "execution_millis": 243,
    "execution_start": 1666016345934,
    "output_cleared": false,
    "source_hash": "23a1ef75",
    "tags": []
   },
   "outputs": [],
   "source": [
    "\n",
    "\n",
    "holc_rated=pd.read_csv('HOLC_2020_census_tracts.csv', dtype={'geoid20': str})\n",
    "#calculate % of rated area\n",
    "holc_rated['A']= holc_rated['area_A']/holc_rated['area_rated']\n",
    "holc_rated['B']= holc_rated['area_B']/holc_rated['area_rated']\n",
    "holc_rated['C']= holc_rated['area_C']/holc_rated['area_rated']\n",
    "holc_rated['D']= holc_rated['area_D']/holc_rated['area_rated']\n",
    "\n",
    "#used NCRC methodology to calculate HRS (Historic redlinning score)\n",
    "holc_rated['a']= holc_rated['A']*1\n",
    "holc_rated['b']= holc_rated['B']*2\n",
    "holc_rated['c']= holc_rated['C']*3\n",
    "holc_rated['d']= holc_rated['D']*4\n",
    "holc_rated['HRS']= holc_rated[['a', 'b', 'c', 'd']].sum(axis=1)\n",
    "\n",
    "holc_rated['fips']= holc_rated['geoid20'].str[:5]  #extract county code also known as fips\n",
    "holc_rated.rename(columns={'geoid20':'GEOID'}, inplace=True)\n",
    "holc_rated"
   ]
  },
  {
   "cell_type": "markdown",
   "metadata": {
    "cell_id": "a04aa7a1cad04d389fab01d0eda3d350",
    "deepnote_cell_type": "text-cell-h3",
    "formattedRanges": [],
    "is_collapsed": false,
    "tags": []
   },
   "source": [
    "### Loading county codes and geolocation."
   ]
  },
  {
   "cell_type": "markdown",
   "metadata": {
    "cell_id": "0fc78211571e474297515d7f2f6a31d5",
    "deepnote_cell_type": "text-cell-p",
    "formattedRanges": [],
    "is_collapsed": false,
    "tags": []
   },
   "source": [
    "We would like to explore if redlining was more prevalent in certain areas of the country. For that we will use two more datasets for plotting."
   ]
  },
  {
   "cell_type": "markdown",
   "metadata": {
    "cell_id": "26de93f4-66d2-439e-a130-36bdfe52f026",
    "deepnote_cell_type": "text-cell-number",
    "formattedRanges": [
     {
      "fromCodePoint": 0,
      "ranges": [],
      "toCodePoint": 72,
      "type": "link",
      "url": "https://github.com/btskinner/spatial/blob/master/data/county_centers.csv"
     }
    ],
    "is_collapsed": false,
    "number": 1,
    "style": "decimal",
    "tags": []
   },
   "source": [
    "1. https://github.com/btskinner/spatial/blob/master/data/county_centers.csv"
   ]
  },
  {
   "cell_type": "markdown",
   "metadata": {
    "cell_id": "0b429fe6-c275-4c69-a585-d046a88ad8a0",
    "deepnote_cell_type": "text-cell-number",
    "formattedRanges": [
     {
      "fromCodePoint": 0,
      "ranges": [],
      "toCodePoint": 82,
      "type": "link",
      "url": "https://github.com/kjhealy/fips-codes/blob/master/state_and_county_fips_master.csv"
     }
    ],
    "is_collapsed": false,
    "style": "decimal",
    "tags": []
   },
   "source": [
    "undefined. https://github.com/kjhealy/fips-codes/blob/master/state_and_county_fips_master.csv"
   ]
  },
  {
   "cell_type": "code",
   "execution_count": null,
   "metadata": {
    "cell_id": "2f7e9351ae574e95b082435e6338d165",
    "deepnote_cell_type": "code",
    "deepnote_to_be_reexecuted": false,
    "execution_millis": 46,
    "execution_start": 1666016346190,
    "source_hash": "8ed60ee8",
    "tags": []
   },
   "outputs": [],
   "source": [
    "states=pd.read_csv('state_fips.csv', dtype={'fips': str})\n",
    "states['fips'] = states['fips'].str.zfill(5)\n",
    "fips= pd.read_csv('fipsnames-20221011-151647.csv', dtype={'fips': str})\n",
    "fips= pd.merge(fips[['fips', 'clon00', 'clat00']], states[['fips', 'name']],how='left',on='fips')\n",
    "fips.head(3)"
   ]
  },
  {
   "cell_type": "markdown",
   "metadata": {
    "cell_id": "dc30ff820d364626ba9f1a3b37af5402",
    "deepnote_cell_type": "text-cell-p",
    "formattedRanges": [],
    "is_collapsed": false,
    "tags": []
   },
   "source": [
    "We will joined the newly created fips file with HOLC to plot counties and percentage of redlining "
   ]
  },
  {
   "cell_type": "code",
   "execution_count": null,
   "metadata": {
    "cell_id": "afcdb831faf1490587bf909a843d58f9",
    "deepnote_cell_type": "code",
    "deepnote_to_be_reexecuted": false,
    "execution_millis": 66,
    "execution_start": 1666016346235,
    "source_hash": "249a11eb",
    "tags": []
   },
   "outputs": [],
   "source": [
    "holc_fips= holc_rated[['fips', 'A', 'B', 'C', 'D', 'HRS']].groupby('fips').mean()\n",
    "holc_fips.reset_index(inplace=True)\n",
    "holc_fips[\"id\"] = holc_fips[\"fips\"].astype(int)\n",
    "holc_fips= pd.merge(holc_fips, fips,how='left',on='fips')\n",
    "\n",
    "#Long form for plotting\n",
    "holc_fipsL= pd.melt(holc_fips, id_vars=['fips', 'id', 'name', 'clon00', 'clat00', 'HRS' ], value_vars=['A', 'B', 'C', \n",
    "    'D'], ignore_index=False)\n",
    "\n",
    "holc_fips.head(3)"
   ]
  },
  {
   "cell_type": "markdown",
   "metadata": {
    "cell_id": "2f35cabe05d9489ca90a07a52d3210ef",
    "deepnote_cell_type": "text-cell-p",
    "formattedRanges": [],
    "is_collapsed": false,
    "tags": []
   },
   "source": [
    "We used Altair to plot all counties with redlining, we can see that the majority of redlining counties are in the east coast or near metropolitan areas, all so must of the neighborhoods were classified grade \"D'"
   ]
  },
  {
   "cell_type": "code",
   "execution_count": null,
   "metadata": {
    "cell_id": "955909d54ed74c13815e70028a5803a9",
    "deepnote_cell_type": "code",
    "deepnote_to_be_reexecuted": false,
    "execution_millis": 94,
    "execution_start": 1666016346356,
    "source_hash": "1505441a",
    "tags": []
   },
   "outputs": [],
   "source": [
    "counties = alt.topo_feature(data.us_10m.url, 'counties')\n",
    "# US states background\n",
    "background2 = alt.Chart(counties).mark_geoshape(\n",
    "    fill='lightgray',\n",
    "    stroke='white'\n",
    ").properties(\n",
    "    width=800,\n",
    "    height=500\n",
    ").project('albersUsa')\n",
    "\n",
    "# airport positions on background\n",
    "range_=['#6d904f', '#30a2da', '#e5ae38', '#fc4f30']\n",
    "points = alt.Chart(holc_fipsL).mark_circle( opacity=0.8,\n",
    "       stroke='black',\n",
    "       strokeWidth=1).encode(\n",
    "    longitude='clon00:Q',\n",
    "    latitude='clat00:Q',\n",
    "    size=alt.Size('value:Q', title='% of Area Rated', scale=alt.Scale(range=[0, 500])  ),\n",
    "    color= alt.Color('variable',scale=alt.Scale( range=range_,),  title='Grade'),\n",
    "    tooltip=['name:N','HRS:Q']\n",
    ").properties(\n",
    "    title='Historical Redlining by 2021 County Lines'\n",
    ")\n",
    "\n",
    "mapCounties=background2 + points\n",
    "mapCounties.configure(background='#FFFFFF')"
   ]
  },
  {
   "cell_type": "markdown",
   "metadata": {
    "cell_id": "ef8c5604898044ff9305911a42f3d7f0",
    "deepnote_cell_type": "text-cell-h3",
    "formattedRanges": [],
    "is_collapsed": false,
    "tags": []
   },
   "source": [
    "### Census Data"
   ]
  },
  {
   "cell_type": "markdown",
   "metadata": {
    "cell_id": "85f07ac68a1c4bd1aa4294255fc8cbef",
    "deepnote_cell_type": "text-cell-p",
    "formattedRanges": [
     {
      "fromCodePoint": 177,
      "ranges": [],
      "toCodePoint": 213,
      "type": "link",
      "url": "https://pypi.org/project/CensusData/"
     }
    ],
    "is_collapsed": false,
    "tags": []
   },
   "source": [
    "Next, we will compare the demographics of ungraded and graded areas. For this we will use census data available to python library Censusdata. Library documentation can be found https://pypi.org/project/CensusData/. "
   ]
  },
  {
   "cell_type": "code",
   "execution_count": null,
   "metadata": {
    "cell_id": "c47ca0fd20bd4c40b741e989e8c62666",
    "deepnote_cell_type": "code",
    "deepnote_table_invalid": false,
    "deepnote_table_loading": false,
    "deepnote_table_state": {
     "filters": [
      {
       "id": "index",
       "type": "contains",
       "value": "harris"
      }
     ],
     "pageIndex": 0,
     "pageSize": 10,
     "sortBy": [
      {
       "id": "index",
       "type": "asc"
      }
     ]
    },
    "deepnote_to_be_reexecuted": false,
    "execution_millis": 950,
    "execution_start": 1666016346462,
    "source_hash": "e06bf1a7",
    "tags": []
   },
   "outputs": [],
   "source": [
    "#dowload census data\n",
    "county_pop = censusdata.download('acs5', 2015, censusdata.censusgeo([('county', '*')]),\n",
    "                                ['B02001_001E', 'B02001_002E', 'B25081_001E', 'B25081_008E', \n",
    "                                'B25002_001E', 'B25002_002E', 'B25002_003E'])\n",
    "county_pop.rename(columns={'B02001_001E':'population_total', 'B02001_002E':'white_pop',\n",
    "  'B25081_001E':'total_houses','B25081_008E':'houses_wo_mortgage','B25002_001E': 'occupancy_total', \n",
    "  'B25002_002E': 'occupied', 'B25002_003E': 'Vacant'}, inplace=True)\n",
    "\n",
    "county_pop.reset_index(inplace=True)\n",
    "county_pop"
   ]
  },
  {
   "cell_type": "markdown",
   "metadata": {
    "cell_id": "ab86aec4cfd94d7385200824e87de348",
    "deepnote_cell_type": "text-cell-p",
    "formattedRanges": [],
    "is_collapsed": false,
    "tags": []
   },
   "source": [
    "Since the census data does not contain the five digit fips code for each county, we will perform some transformation "
   ]
  },
  {
   "cell_type": "code",
   "execution_count": null,
   "metadata": {
    "cell_id": "949934576ced40ddadc31a10a6e47884",
    "deepnote_cell_type": "code",
    "deepnote_table_invalid": false,
    "deepnote_table_loading": false,
    "deepnote_table_state": {
     "filters": [],
     "pageIndex": 0,
     "pageSize": 10,
     "sortBy": [
      {
       "id": "index",
       "type": "asc"
      }
     ]
    },
    "deepnote_to_be_reexecuted": false,
    "execution_millis": 70,
    "execution_start": 1666016347441,
    "source_hash": "67b67d45",
    "tags": []
   },
   "outputs": [],
   "source": [
    "#extract state and 3 digit county code. And build fips code. \n",
    "county_pop['state']= county_pop['index'].astype(str).str.extract(r'(state:\\d{2})')\n",
    "county_pop['county']= county_pop['index'].astype(str).str.extract(r'(county:\\d{3})')\n",
    "county_pop['county']= county_pop['county'].str.replace(\"county:\", \"\")\n",
    "county_pop['state']= county_pop['state'].str.replace(\"state:\", \"\")\n",
    "county_pop['fips']= county_pop['state']+ county_pop['county']\n",
    "county_pop.drop(columns=['state', 'county'], inplace=True)\n",
    "county_pop"
   ]
  },
  {
   "cell_type": "markdown",
   "metadata": {
    "cell_id": "d7bc7d4db0054914ac6342f160bd8c6b",
    "deepnote_cell_type": "text-cell-p",
    "formattedRanges": [],
    "is_collapsed": false,
    "tags": []
   },
   "source": [
    "We will calculate the vacancy, mortgage and minority percentages"
   ]
  },
  {
   "cell_type": "code",
   "execution_count": null,
   "metadata": {
    "cell_id": "8dd281e0beb849b9954b01fda5010c7d",
    "deepnote_cell_type": "code",
    "deepnote_to_be_reexecuted": false,
    "execution_millis": 95,
    "execution_start": 1666016347510,
    "source_hash": "e13fdfbb",
    "tags": []
   },
   "outputs": [],
   "source": [
    "county_pop['vacant_perc']= county_pop['Vacant']/county_pop['total_houses']\n",
    "county_pop['mortgage_perc']= 1-(county_pop['houses_wo_mortgage']/county_pop['total_houses'])\n",
    "county_pop['minority_perc']= 1-(county_pop['white_pop']/county_pop['population_total'])\n",
    "county_pop"
   ]
  },
  {
   "cell_type": "markdown",
   "metadata": {
    "cell_id": "c42d722a750441e4bbf0fd022280ca92",
    "deepnote_cell_type": "text-cell-h3",
    "formattedRanges": [],
    "is_collapsed": false,
    "tags": []
   },
   "source": [
    "### Joining redlining and census data "
   ]
  },
  {
   "cell_type": "markdown",
   "metadata": {
    "cell_id": "3a0125f4a68f474b93c167097cb43dc8",
    "deepnote_cell_type": "text-cell-p",
    "formattedRanges": [],
    "is_collapsed": false,
    "tags": []
   },
   "source": [
    "We will join the HRS with current census data, to see the demographic composition and HRS grading together.  "
   ]
  },
  {
   "cell_type": "markdown",
   "metadata": {
    "cell_id": "7aec46e4-9995-4098-bd38-901780ab557d",
    "deepnote_cell_type": "text-cell-p",
    "formattedRanges": [],
    "is_collapsed": false,
    "tags": []
   },
   "source": [
    "Minority percentage steadily increases from ungraded to grade D. We can also see that the % of vacant units doubles between graded A areas and Graded D. mortgage percentage is similar between all areas. "
   ]
  },
  {
   "cell_type": "code",
   "execution_count": null,
   "metadata": {
    "cell_id": "15278b2ac90c40488fe3ba4f2e64b3e5",
    "deepnote_cell_type": "code",
    "deepnote_table_invalid": false,
    "deepnote_table_loading": false,
    "deepnote_table_state": {
     "filters": [],
     "pageIndex": 0,
     "pageSize": 10,
     "sortBy": []
    },
    "deepnote_to_be_reexecuted": false,
    "execution_millis": 49,
    "execution_start": 1666016347611,
    "source_hash": "c34f4c32",
    "tags": []
   },
   "outputs": [],
   "source": [
    "#merge HOLC, and census data\n",
    "fips_rated= pd.merge(holc_fips, county_pop[['fips', 'population_total', 'total_houses', 'vacant_perc',\n",
    "    'mortgage_perc', 'minority_perc']],\n",
    "    how='right',on='fips')\n",
    "fips_rated['HRS'] = fips_rated['HRS'].fillna(0.1)\n",
    "fips_rated['grade'] = pd.cut(fips_rated['HRS'], bins=[0,1, 1.75, 2.49, 3.3, 4], labels=['Ungraded', 'A','B', \n",
    "    'C', 'D'])\n",
    "\n",
    "#aggreagate values by HRS grading \n",
    "names = {'population_total':'population_total', 'total_houses':'total_houses','mortgage_perc':'mean_%mortage',\n",
    "     'minority_perc':'mean-%minority', 'vacant_perc':'mean_%vacant', 'HRS':'mean_HRS'}\n",
    "fips_ratedagg= fips_rated.groupby('grade').agg({'population_total':'sum', 'total_houses':'sum',\n",
    "    'mortgage_perc':'mean', 'minority_perc':'mean', 'vacant_perc':'mean', 'HRS':'mean' }).rename(columns=names)\n",
    "fips_ratedagg"
   ]
  },
  {
   "cell_type": "markdown",
   "metadata": {
    "cell_id": "eeaa8258a195483686a392051b51aa1a",
    "deepnote_cell_type": "text-cell-h3",
    "formattedRanges": [],
    "is_collapsed": false,
    "tags": []
   },
   "source": [
    "### Loan applications and HRS"
   ]
  },
  {
   "cell_type": "markdown",
   "metadata": {
    "cell_id": "760ee435-ae8c-40a6-818f-aa078d712ed9",
    "deepnote_cell_type": "text-cell-p",
    "formattedRanges": [],
    "is_collapsed": false,
    "tags": []
   },
   "source": [
    "Considering that there is significant increase in minority population and vacant units as HRS grade increases. We will explore the loan performance, to see if a relationship exist with HRS. "
   ]
  },
  {
   "cell_type": "code",
   "execution_count": null,
   "metadata": {
    "cell_id": "5229a052c9514fe78e32e2b1d42608aa",
    "deepnote_cell_type": "code",
    "deepnote_to_be_reexecuted": false,
    "execution_millis": 7799,
    "execution_start": 1666016347662,
    "source_hash": "6e614432",
    "tags": []
   },
   "outputs": [],
   "source": [
    "#pyspark session to load loan data \n",
    "\n",
    "\n",
    "spark = SparkSession \\\n",
    "    .builder \\\n",
    "    .master(\"local[*]\") \\\n",
    "    .appName('My First Spark application') \\\n",
    "    .getOrCreate()\n",
    "sc = spark.sparkContext"
   ]
  },
  {
   "cell_type": "code",
   "execution_count": null,
   "metadata": {
    "cell_id": "4a5ba02e63f24a7683c203881da0a149",
    "deepnote_cell_type": "code",
    "deepnote_to_be_reexecuted": false,
    "execution_millis": 12011,
    "execution_start": 1666016355467,
    "source_hash": "252ffb74",
    "tags": []
   },
   "outputs": [],
   "source": [
    "df_hm = spark.read.option(\"header\",True) \\\n",
    "     .csv(\"2021_public_lar.csv\")\n",
    "df_hm.show(2,truncate=False)"
   ]
  },
  {
   "cell_type": "markdown",
   "metadata": {
    "cell_id": "2078faddb62e49d38b309a4546e2a103",
    "deepnote_cell_type": "text-cell-p",
    "formattedRanges": [],
    "is_collapsed": false,
    "tags": []
   },
   "source": [
    "We will focus on single family homes, not used for businesses, we will also exclude any applications that were closed out due to lack of documentation or withdraw by applicant. "
   ]
  },
  {
   "cell_type": "code",
   "execution_count": null,
   "metadata": {
    "cell_id": "a9cd38655b824338b0541b81f291920c",
    "deepnote_cell_type": "code",
    "deepnote_to_be_reexecuted": false,
    "execution_millis": 265,
    "execution_start": 1666016367483,
    "source_hash": "4b4dd407",
    "tags": []
   },
   "outputs": [],
   "source": [
    "# filter only loans for home purchases and for personal use, etc refer to data cleaning specs. .\n",
    "df_hm_cleaned = df_hm.select('*')\\\n",
    "    .filter((df_hm.business_or_commercial_purpose == 2) & (df_hm.loan_purpose ==1) &\n",
    "            (df_hm.occupancy_type ==1)& (df_hm.action_taken !=4) &\n",
    "            (df_hm.action_taken !=5) & (df_hm.loan_type ==1)&\n",
    "            (df_hm.derived_dwelling_category == 'Single Family (1-4 Units):Site-Built' )&\n",
    "            (df_hm.derived_loan_product_type == \"Conventional:First Lien\") &\n",
    "            (df_hm.conforming_loan_limit == \"C\") &\n",
    "            (df_hm.lien_status == 1) &\n",
    "            (df_hm.reverse_mortgage == 2) &\n",
    "            (df_hm.open_end_line_of_credit == 2) &\n",
    "            (df_hm.negative_amortization == 2 ) &\n",
    "            (df_hm.total_units == 1)&\n",
    "            (df_hm.balloon_payment ==2))"
   ]
  },
  {
   "cell_type": "markdown",
   "metadata": {
    "cell_id": "2fb70b50f0f647698939e903c7704c2e",
    "deepnote_cell_type": "text-cell-p",
    "formattedRanges": [],
    "is_collapsed": false,
    "tags": []
   },
   "source": [
    "Since Hispanic is encoded under 'derived_ethnicity', We will create a variable called race. "
   ]
  },
  {
   "cell_type": "code",
   "execution_count": null,
   "metadata": {
    "cell_id": "abe85227c92245b79afb3c31d6802fda",
    "deepnote_cell_type": "code",
    "deepnote_to_be_reexecuted": false,
    "execution_millis": 293,
    "execution_start": 1666016367749,
    "source_hash": "b8cb0868",
    "tags": []
   },
   "outputs": [],
   "source": [
    "#filter out only by certain races\n",
    "races=['White', 'Black or African American', 'Asian', 'Hispanic or Latino']\n",
    "df_hm_cleaned= df_hm_cleaned.withColumn('race', \\\n",
    "    f.when(f.col('derived_ethnicity')=='Hispanic or Latino', \"Hispanic or Latino\")\\\n",
    "    .otherwise(df_hm_cleaned.derived_race))\n",
    "\n",
    "df_hm_cleaned =df_hm_cleaned.select('*').filter(df_hm_cleaned.race.isin(races))"
   ]
  },
  {
   "cell_type": "markdown",
   "metadata": {
    "cell_id": "5c72660e760b4979bc50ef9a09d4320a",
    "deepnote_cell_type": "text-cell-p",
    "formattedRanges": [],
    "is_collapsed": false,
    "tags": []
   },
   "source": [
    "We will calculate the total number of applications, approvals and mean interest rate, creating a consolidated pandas data frame. "
   ]
  },
  {
   "cell_type": "code",
   "execution_count": null,
   "metadata": {
    "cell_id": "70d7e9e131704798ae63966ae1d3fca8",
    "deepnote_cell_type": "code",
    "deepnote_to_be_reexecuted": false,
    "execution_millis": 127597,
    "execution_start": 1666016368055,
    "source_hash": "38f8e9",
    "tags": []
   },
   "outputs": [],
   "source": [
    "count_group=df_hm_cleaned.groupBy('census_tract',\"race\").count()\n",
    "\n",
    "approvals=df_hm_cleaned.filter(col('action_taken').isin([1,2,6,8]))\\\n",
    "    .groupBy('census_tract','race').count().withColumnRenamed(\"count\",\"approved\")\\\n",
    "    .withColumnRenamed('race',\"race2\").withColumnRenamed(\"census_tract\",\"census\")\n",
    "\n",
    "interest_rate=df_hm_cleaned.groupBy('census_tract',\"race\").agg(f.mean('interest_rate'))\\\n",
    "    .withColumnRenamed('census_tract','census_tract2').withColumnRenamed(\"race\",\"race3\")\n",
    "\n",
    "approv_index=count_group.join(approvals,(count_group.race == approvals.race2)\\\n",
    "    & (count_group.census_tract == approvals.census),\"left\")\\\n",
    "    .join(interest_rate, (count_group.race == interest_rate.race3)\\\n",
    "    & (count_group.census_tract == interest_rate.census_tract2),\"left\").toPandas()"
   ]
  },
  {
   "cell_type": "markdown",
   "metadata": {
    "cell_id": "b054e975f1b841db8c1aaaf7f43811c5",
    "deepnote_cell_type": "text-cell-p",
    "formattedRanges": [],
    "is_collapsed": false,
    "tags": []
   },
   "source": [
    "We will like to add the percentage of approvals to our new data frame "
   ]
  },
  {
   "cell_type": "code",
   "execution_count": null,
   "metadata": {
    "cell_id": "0f594cdc4b304081a7b60f7b6a85572e",
    "deepnote_cell_type": "code",
    "deepnote_to_be_reexecuted": false,
    "execution_millis": 697,
    "execution_start": 1666016495657,
    "source_hash": "abef5075",
    "tags": []
   },
   "outputs": [],
   "source": [
    "approv_index.drop(['race2', 'census', 'race3', 'census_tract2'], axis=1, inplace=True)\n",
    "approv_index['approved'] = approv_index['approved'].fillna(0) #nan in column approved are denials will be transform to 0\n",
    "approv_index['approval_perc']= approv_index['approved']/approv_index['count']\n",
    "approv_index"
   ]
  },
  {
   "cell_type": "code",
   "execution_count": null,
   "metadata": {
    "cell_id": "4bc14e2d7b34408bba5602fc82648dbe",
    "deepnote_cell_type": "code",
    "deepnote_to_be_reexecuted": false,
    "execution_millis": 80,
    "execution_start": 1666016495783,
    "source_hash": "874e1729",
    "tags": []
   },
   "outputs": [],
   "source": [
    "total_applications= approv_index.groupby('race')['count', ].sum()\n",
    "total_applications"
   ]
  },
  {
   "cell_type": "markdown",
   "metadata": {
    "cell_id": "51a4f6b31fe94a9c931b42d9bddb68ee",
    "deepnote_cell_type": "text-cell-p",
    "formattedRanges": [],
    "is_collapsed": false,
    "tags": []
   },
   "source": [
    "Our data frame encodes the variable race in one columns. We will perform some transformation in order to calculate the correlation with HRS. "
   ]
  },
  {
   "cell_type": "code",
   "execution_count": null,
   "metadata": {
    "cell_id": "bac303ae05734079add8807fdb50649d",
    "deepnote_cell_type": "code",
    "deepnote_to_be_reexecuted": false,
    "execution_millis": 459,
    "execution_start": 1666016495903,
    "source_hash": "4b0dc56d",
    "tags": []
   },
   "outputs": [],
   "source": [
    "ai_long= pd.pivot_table(approv_index, values=['approval_perc', 'avg(interest_rate)'], index=['census_tract'],\n",
    "                            columns=['race'])\n",
    "ai_long.columns = ai_long.columns.droplevel()\n",
    "\n",
    "\n",
    "  \n",
    "# Set the index\n",
    "columns_ = ['asian_%approv', 'black_%approv', 'hisp_%approv', 'white_%approv', 'asian_interest', 'black_interest',\n",
    "     'hisp_interest', 'white_interest']\n",
    "ai_long.columns = columns_\n",
    "ai_long.reset_index(inplace=True)\n",
    "ai_long"
   ]
  },
  {
   "cell_type": "markdown",
   "metadata": {
    "cell_id": "a9cb0c89df2444a490fe3f9ec4f7c4d7",
    "deepnote_cell_type": "text-cell-p",
    "formattedRanges": [],
    "is_collapsed": false,
    "tags": []
   },
   "source": [
    "We will bring over our previously calculated HRS from 'holc_rated' data set "
   ]
  },
  {
   "cell_type": "code",
   "execution_count": null,
   "metadata": {
    "cell_id": "4bf011c56f064bfd9a39945fb2ee690c",
    "deepnote_cell_type": "code",
    "deepnote_to_be_reexecuted": false,
    "execution_millis": 125,
    "execution_start": 1666016496272,
    "source_hash": "f08276ea",
    "tags": []
   },
   "outputs": [],
   "source": [
    "ai_merged= pd.merge(ai_long, holc_rated[['GEOID', 'HRS']], left_on='census_tract', right_on='GEOID',\n",
    "    how='inner').drop(columns = ['GEOID'])\n",
    "ai_merged.head(3)"
   ]
  },
  {
   "cell_type": "markdown",
   "metadata": {
    "cell_id": "86cc4b1e8d784491a2de49bf6895934c",
    "deepnote_cell_type": "text-cell-p",
    "formattedRanges": [],
    "is_collapsed": false,
    "tags": []
   },
   "source": [
    "Calculate the correlation between interest rate and approval by race and HRS"
   ]
  },
  {
   "cell_type": "code",
   "execution_count": null,
   "metadata": {
    "cell_id": "98ab6aacd6304c8884a65ee0f693a934",
    "deepnote_cell_type": "code",
    "deepnote_to_be_reexecuted": false,
    "execution_millis": 40,
    "execution_start": 1666016496389,
    "source_hash": "d0fa9f6a",
    "tags": []
   },
   "outputs": [],
   "source": [
    "#interest correlation\n",
    "interest_corr=ai_merged[['HRS','census_tract', 'asian_interest', 'black_interest', 'hisp_interest',\n",
    "       'white_interest', ]].corr().round(2).stack().reset_index()\n",
    "#create long format to plot correlation \n",
    "interest_corr.rename(columns={0: 'corr_pearson', 'level_0': 'variable', 'level_1': 'variable2'}, inplace=True)\n",
    "\n",
    "#approval percentage correlation\n",
    "approval_corr=ai_merged[['HRS','census_tract', 'asian_%approv', 'black_%approv', 'hisp_%approv',\n",
    "       'white_%approv', ]].corr().round(2).stack().reset_index()\n",
    "#create long format to plot correlation \n",
    "approval_corr.rename(columns={0: 'corr_pearson', 'level_0': 'variable', 'level_1': 'variable2'}, inplace=True)"
   ]
  },
  {
   "cell_type": "markdown",
   "metadata": {
    "cell_id": "9a1602e6-3a0f-4be3-b3c3-fd94e6aa0323",
    "deepnote_cell_type": "text-cell-p",
    "formattedRanges": [],
    "is_collapsed": false,
    "tags": []
   },
   "source": [
    "We will also analyze  if there is other way HRS impacts  the loans profile, so we will calculate the correlation with loan amount, combined loan to value ratio, property value, debt to income ratio, tract minority population percent, discount points, tract to msa income percentage, approved"
   ]
  },
  {
   "cell_type": "markdown",
   "metadata": {
    "cell_id": "bdc985ac408a4bc3b349492f924124bb",
    "deepnote_cell_type": "text-cell-h3",
    "formattedRanges": [],
    "is_collapsed": false,
    "tags": []
   },
   "source": [
    "### Calculate correlation with loan amount. "
   ]
  },
  {
   "cell_type": "markdown",
   "metadata": {
    "cell_id": "70a21238-26ef-4720-8564-fbb1ac4fb8b7",
    "deepnote_cell_type": "text-cell-p",
    "formattedRanges": [],
    "is_collapsed": false,
    "tags": []
   },
   "source": [
    "We will bring these variables from our cleaned 'df_hm_cleaned' dataset which originates from our loan data.  Filter out subset of variables for analysis and merge with 'holc_rated\" data set "
   ]
  },
  {
   "cell_type": "code",
   "execution_count": null,
   "metadata": {
    "cell_id": "89667901d2774ef6be8bf5a34d9da0e3",
    "deepnote_cell_type": "code",
    "deepnote_to_be_reexecuted": false,
    "execution_millis": 49015,
    "execution_start": 1666016496473,
    "source_hash": "a1de6dc2",
    "tags": []
   },
   "outputs": [],
   "source": [
    "tractDF =df_hm_cleaned.select('census_tract', 'loan_amount', 'combined_loan_to_value_ratio', 'property_value', \n",
    "    'tract_minority_population_percent', 'tract_to_msa_income_percentage', 'income', 'interest_rate' ).toPandas()"
   ]
  },
  {
   "cell_type": "code",
   "execution_count": null,
   "metadata": {
    "cell_id": "babd231c6a674595a35032b83cb8eb61",
    "deepnote_cell_type": "code",
    "deepnote_to_be_reexecuted": false,
    "execution_millis": 817,
    "execution_start": 1666016545487,
    "source_hash": "e35dfb4f",
    "tags": []
   },
   "outputs": [],
   "source": [
    "tractMerged= pd.merge(tractDF, holc_rated[['GEOID', 'HRS']], left_on='census_tract', right_on='GEOID',\n",
    "    how='left').drop(columns = ['GEOID'])\n",
    "\n",
    "#fill null values in HRS to create grade category by bining on intervals\n",
    "tractMerged['HRS'] = tractMerged['HRS'].fillna(0.1)\n",
    "tractMerged['grade'] = pd.cut(tractMerged['HRS'], bins=[0,1, 1.75, 2.49, 3.3, 4], labels=['Ungraded', 'A','B', \n",
    "    'C', 'D'])\n"
   ]
  },
  {
   "cell_type": "code",
   "execution_count": null,
   "metadata": {
    "cell_id": "f08eb8e6f06e4a36bb6d3a3d0813299e",
    "deepnote_cell_type": "code",
    "deepnote_to_be_reexecuted": false,
    "execution_millis": 2931,
    "execution_start": 1666016546308,
    "source_hash": "140de1ad",
    "tags": []
   },
   "outputs": [],
   "source": [
    "#convert variables to numeric values to calculate correlation. \n",
    "colToNumeric=['loan_amount', 'combined_loan_to_value_ratio', 'property_value', 'tract_minority_population_percent',\n",
    "       'tract_to_msa_income_percentage', 'income', 'HRS']\n",
    "tractMerged[colToNumeric]= tractMerged[colToNumeric].apply(pd.to_numeric, errors='coerce')\n"
   ]
  },
  {
   "cell_type": "code",
   "execution_count": null,
   "metadata": {
    "cell_id": "91a7e0e4bd5d43b68e7cc6a35a11961b",
    "deepnote_cell_type": "code",
    "deepnote_table_loading": false,
    "deepnote_table_state": {
     "filters": [],
     "pageIndex": 0,
     "pageSize": 10,
     "sortBy": []
    },
    "deepnote_to_be_reexecuted": false,
    "execution_millis": 455,
    "execution_start": 1666016549259,
    "source_hash": "d6917163",
    "tags": []
   },
   "outputs": [],
   "source": [
    "graded_corr= tractMerged[['loan_amount', 'combined_loan_to_value_ratio', 'property_value', 'tract_minority_population_percent',\n",
    "       'tract_to_msa_income_percentage', 'income', 'HRS']].corr().round(2).stack().reset_index()\n",
    "graded_corr.rename(columns={0: 'corr_pearson', 'level_0': 'variable', 'level_1': 'variable2'}, inplace=True)\n",
    "graded_corr.head(3)"
   ]
  },
  {
   "cell_type": "markdown",
   "metadata": {
    "cell_id": "f17f9eefdc2746bfbdcc36b813358aa9",
    "deepnote_cell_type": "text-cell-h3",
    "formattedRanges": [],
    "is_collapsed": false,
    "tags": []
   },
   "source": [
    "### Plotting correlation."
   ]
  },
  {
   "cell_type": "markdown",
   "metadata": {
    "cell_id": "32e731cb-15a9-4627-bc5c-63b5b6a4b014",
    "deepnote_cell_type": "text-cell-p",
    "formattedRanges": [],
    "is_collapsed": false,
    "tags": []
   },
   "source": [
    "We could not find a significant correlations between interest rate and approval percentage by race and HRS. We observe a minimal negative correlation between approval percentages for Black (0.01), Hispanic (-0.01) and White (-0.02) and HRS. "
   ]
  },
  {
   "cell_type": "code",
   "execution_count": null,
   "metadata": {
    "cell_id": "882c9ed350074c498e7bad01e6159989",
    "deepnote_cell_type": "code",
    "deepnote_to_be_reexecuted": false,
    "execution_millis": 333,
    "execution_start": 1666016549438,
    "source_hash": "83584b1c",
    "tags": []
   },
   "outputs": [],
   "source": [
    "#Pearson correlation matrix for interesr\n",
    "basei=alt.Chart(interest_corr).mark_rect().transform_filter(\n",
    "    alt.datum.variable < alt.datum.variable2\n",
    ").encode(\n",
    "    x='variable:O',\n",
    "    y='variable2:O',\n",
    "    color= 'corr_pearson:Q'\n",
    ").properties(\n",
    "    width=250,\n",
    "    height=250,\n",
    "    title=alt.TitleParams(\n",
    "            text='Interest Rate ')\n",
    ")\n",
    "\n",
    "\n",
    "\n",
    "\n",
    "interest= basei+basei.mark_text().transform_calculate(label = '\"\" + datum.x + datum.y').encode(\n",
    "    text='corr_pearson:N',\n",
    "    color=alt.value('black'))\n",
    "\n",
    "#Pearson correlation matrix for approvals\n",
    "basea=alt.Chart(approval_corr).mark_rect().transform_filter(\n",
    "    alt.datum.variable < alt.datum.variable2\n",
    ").encode(\n",
    "    x='variable:O',\n",
    "    y= alt.Y('variable2:O', axis=None ),\n",
    "    color= 'corr_pearson:Q'\n",
    ").properties(\n",
    "    width=250,\n",
    "    height=250,\n",
    "    title=alt.TitleParams(\n",
    "            text='Approval Rate')\n",
    ")\n",
    "\n",
    "\n",
    "\n",
    "\n",
    "approval= basea+basea.mark_text().transform_calculate(label = '\"\" + datum.x + datum.y').encode(\n",
    "    text='corr_pearson:N',\n",
    "    color=alt.value('black'))\n",
    "\n",
    "\n",
    "both=interest|approval\n",
    "both.configure_title(fontSize=14).configure(background='#FFFFFF').configure_axis(\n",
    "    grid=False)"
   ]
  },
  {
   "cell_type": "code",
   "execution_count": null,
   "metadata": {
    "cell_id": "834ababa01b94be9b5ee4ca12493d326",
    "deepnote_cell_type": "code",
    "deepnote_to_be_reexecuted": false,
    "execution_millis": 260,
    "execution_start": 1666016549551,
    "source_hash": "1f6c7307",
    "tags": []
   },
   "outputs": [],
   "source": [
    "#Pearson correlation matrix for other variables\n",
    "baseo=alt.Chart(graded_corr).mark_rect().transform_filter(\n",
    "    alt.datum.variable < alt.datum.variable2\n",
    ").encode(\n",
    "    x='variable:O',\n",
    "    y= alt.Y('variable2:O'),\n",
    "    color= alt.Color('corr_pearson:Q', )\n",
    ").properties(\n",
    "    width=250,\n",
    "    height=250,\n",
    "    title=alt.TitleParams(\n",
    "            text='HRS Correlation')\n",
    ")\n",
    "\n",
    "\n",
    "\n",
    "\n",
    "others= baseo+baseo.mark_text().transform_calculate(label = '\"\" + datum.x + datum.y').encode(\n",
    "    text='corr_pearson:N',\n",
    "    color=alt.value('black'))\n",
    "others.configure_title(fontSize=14).configure(background='#FFFFFF').configure_axis(\n",
    "    grid=False)"
   ]
  },
  {
   "cell_type": "markdown",
   "metadata": {
    "cell_id": "8d1502986c61468086b032612e860d33",
    "deepnote_cell_type": "text-cell-p",
    "formattedRanges": [],
    "is_collapsed": false,
    "tags": []
   },
   "source": [
    "So far we seen that the percentage of minorities increases as it does HRS, as well as the number of vacancies. We did not discovered a significant relationship between interest rate by race and HRS. And only very minor negative relationship between HRS and approval rate by rate. "
   ]
  },
  {
   "cell_type": "markdown",
   "metadata": {
    "cell_id": "66c15329-9a8e-4699-9527-d6fad2187ab1",
    "deepnote_cell_type": "text-cell-p",
    "formattedRanges": [],
    "is_collapsed": false,
    "tags": []
   },
   "source": [
    "When we calculate the correlation of HRS with other variables we discover a correlation with minority percentage, but near zero correlations with other variables of interest. Additionally, we identify strong correlations between: income, property value, loan amount and mean income percentage with reflect a normal relationship between individual income and the type of home they will be able to afford. "
   ]
  }
 ],
 "metadata": {
  "deepnote": {},
  "deepnote_execution_queue": [],
  "deepnote_full_width": true,
  "deepnote_notebook_id": "98b87c34bf01400488eab7620f8d2515",
  "kernelspec": {
   "display_name": "Python 3 (ipykernel)",
   "language": "python",
   "name": "python3"
  },
  "language_info": {
   "codemirror_mode": {
    "name": "ipython",
    "version": 3
   },
   "file_extension": ".py",
   "mimetype": "text/x-python",
   "name": "python",
   "nbconvert_exporter": "python",
   "pygments_lexer": "ipython3",
   "version": "3.9.7"
  }
 },
 "nbformat": 4,
 "nbformat_minor": 4
}
