{
 "cells": [
  {
   "cell_type": "markdown",
   "metadata": {
    "cell_id": "90bf6bee928c4349a18ed59cd5aeb33f",
    "deepnote_app_coordinates": {
     "h": 5,
     "w": 12,
     "x": 0,
     "y": 208
    },
    "deepnote_cell_type": "text-cell-h1",
    "formattedRanges": [],
    "is_collapsed": false,
    "tags": []
   },
   "source": [
    "# Exploratory Data Analysis"
   ]
  },
  {
   "cell_type": "markdown",
   "metadata": {},
   "source": [
    "<span style=\"color:blue\">Disclaimer: We began our analysis with a set of filters aimed to include all loan applications for single family homes purchased as their primary residency. After, performing the data analysis below,  we noticed that our filters included loan applications that where either withdrawn by applicant or closed due to incompleteness (variable action taken 4,5); in our subsequent analysis we decided to exclude these two possible outcomes, since these loan applications may contain incomplete or inaccurate information. \n",
    "We also discovered that our filters were limiting to purchaser type to ‘Non-applicable’, we decided to remove this filter and include all loan purchaser types, since the large majority of loans in the US are conforming loans, which are loans that comply with the guidelines on the Federal Housing Finance agency (ref: https://en.wikipedia.org/wiki/Conforming_loan,  https://en.wikipedia.org/wiki/Fannie_Mae ) and backed by organizations such as Fannie Mae and Freddie Mac and we wanted to study a representative set of home loans and avoid selection bias.</span>.\n",
    "\n",
    "\n"
   ]
  },
  {
   "cell_type": "markdown",
   "metadata": {
    "cell_id": "8450c816522b4d9b9a190a34b03ea5b5",
    "deepnote_cell_type": "text-cell-p",
    "formattedRanges": [],
    "is_collapsed": false,
    "tags": []
   },
   "source": [
    "The goal of this notebook was to create a single pandas dataframe with which we could explore most of our data. The other notebooks are more complete in their exposition as they focus on more specific questions and have more defined outcomes. Furthermore, later we apply different filters to take a larger slice of the data, as we broaden the analysis, therefore the statistics are different."
   ]
  },
  {
   "cell_type": "code",
   "execution_count": null,
   "metadata": {
    "cell_id": "f64590bee8f4462f84c7d209e3bbb5a4",
    "deepnote_app_coordinates": {
     "h": 5,
     "w": 12,
     "x": 0,
     "y": 1
    },
    "deepnote_cell_type": "code",
    "deepnote_to_be_reexecuted": false,
    "execution_millis": 1127,
    "execution_start": 1666046954011,
    "output_cleared": false,
    "source_hash": "b7034fd4",
    "tags": []
   },
   "outputs": [],
   "source": [
    "#import libraries and settings\n",
    "import pandas as pd\n",
    "import numpy as np\n",
    "\n",
    "import pyspark\n",
    "from pyspark.sql import SparkSession\n",
    "\n",
    "import matplotlib.pyplot as plt\n",
    "import altair as alt\n",
    "alt.data_transformers.disable_max_rows()\n",
    "alt.themes.enable(\"fivethirtyeight\")\n",
    "\n",
    "from scipy.stats import ttest_ind\n",
    "import statsmodels.formula.api as sm"
   ]
  },
  {
   "cell_type": "markdown",
   "metadata": {
    "cell_id": "92bf1987d86a4007a2aa19b807d250b2",
    "deepnote_app_coordinates": {
     "h": 2,
     "w": 8,
     "x": 0,
     "y": 214
    },
    "deepnote_cell_type": "text-cell-p",
    "formattedRanges": [
     {
      "fromCodePoint": 60,
      "ranges": [],
      "toCodePoint": 140,
      "type": "link",
      "url": "https://ffiec.cfpb.gov/data-publication/dynamic-national-loan-level-dataset/2021"
     }
    ],
    "is_collapsed": false,
    "tags": []
   },
   "source": [
    "The first task is to load the mortgage application dataset (https://ffiec.cfpb.gov/data-publication/dynamic-national-loan-level-dataset/2021). The file is too large for Pandas so we need Spark, however, for EDA I want a single Pandas dataframe."
   ]
  },
  {
   "cell_type": "code",
   "execution_count": null,
   "metadata": {
    "cell_id": "6adaa264e7ca49f9abc88768141d7850",
    "deepnote_app_coordinates": {
     "h": 5,
     "w": 12,
     "x": 0,
     "y": 7
    },
    "deepnote_cell_type": "code",
    "deepnote_to_be_reexecuted": false,
    "execution_millis": 16813,
    "execution_start": 1666046955181,
    "output_cleared": false,
    "source_hash": "571f19e1",
    "tags": []
   },
   "outputs": [],
   "source": [
    "spark = SparkSession \\\n",
    "    .builder \\\n",
    "    .master(\"local[*]\") \\\n",
    "    .appName('My First Spark application') \\\n",
    "    .getOrCreate()\n",
    "sc = spark.sparkContext\n",
    "\n",
    "df_hm = spark.read.option(\"header\",True) \\\n",
    "     .csv(\"2021_public_lar.csv\")\n",
    "\n",
    "df_hm.createOrReplaceTempView('N_df_view')"
   ]
  },
  {
   "cell_type": "markdown",
   "metadata": {
    "cell_id": "4addbc5cb02a4335ac14b260dcb83165",
    "deepnote_app_coordinates": {
     "h": 2,
     "w": 8,
     "x": 0,
     "y": 13
    },
    "deepnote_cell_type": "text-cell-p",
    "formattedRanges": [],
    "is_collapsed": false,
    "tags": []
   },
   "source": [
    "To begin we restrict our analysis to the most 'standard' types of mortgages. Going through the schema I selected options for each feature that is not a variable of interest, aside from the columns that do not contain valuable information. This reduces the size of the dataframe as much as possible in order to help produce that single Pandas dataframe."
   ]
  },
  {
   "cell_type": "code",
   "execution_count": null,
   "metadata": {
    "cell_id": "0108579a458c41518afdec43cd960ac1",
    "deepnote_app_coordinates": {
     "h": 5,
     "w": 12,
     "x": 0,
     "y": 16
    },
    "deepnote_cell_type": "code",
    "deepnote_to_be_reexecuted": false,
    "execution_millis": 426,
    "execution_start": 1666046971995,
    "output_cleared": true,
    "source_hash": "fefd58e6",
    "tags": []
   },
   "outputs": [],
   "source": [
    "def cut_view_red():\n",
    "    return spark.sql(\"\"\"\\\n",
    "        SELECT *\n",
    "        FROM N_df_view\n",
    "        WHERE derived_loan_product_type = \"Conventional:First Lien\" AND\n",
    "        conforming_loan_limit = \"C\" AND\n",
    "        lien_status = 1 AND\n",
    "        reverse_mortgage = 2 AND\n",
    "        open_end_line_of_credit = 2 AND\n",
    "        negative_amortization = 2 AND\n",
    "        balloon_payment = 2 AND\n",
    "        total_units = 1 AND\n",
    "        derived_dwelling_category = 'Single Family (1-4 Units):Site-Built' AND\n",
    "        purchaser_type = 0 AND\n",
    "        loan_type = 1 AND\n",
    "        loan_purpose = 1 AND\n",
    "        business_or_commercial_purpose = 2 AND\n",
    "        occupancy_type = 1\n",
    "        \"\"\")\n",
    "\n",
    "results = cut_view_red()"
   ]
  },
  {
   "cell_type": "markdown",
   "metadata": {
    "cell_id": "c14aa6f9847b4456941c1be8d97e468d",
    "deepnote_app_coordinates": {
     "h": 2,
     "w": 8,
     "x": 0,
     "y": 217
    },
    "deepnote_cell_type": "text-cell-p",
    "formattedRanges": [],
    "is_collapsed": false,
    "tags": []
   },
   "source": [
    "Below are our initial variables of interest as described in our proposal document. I select on these to drop unwanted columns."
   ]
  },
  {
   "cell_type": "code",
   "execution_count": null,
   "metadata": {
    "cell_id": "c46bb44253274623a2df5c12f11cebac",
    "deepnote_app_coordinates": {
     "h": 5,
     "w": 12,
     "x": 0,
     "y": 22
    },
    "deepnote_cell_type": "code",
    "deepnote_to_be_reexecuted": false,
    "execution_millis": 38,
    "execution_start": 1666046972488,
    "source_hash": "35b8b6d2",
    "tags": []
   },
   "outputs": [],
   "source": [
    "results = results.select('county_code',\n",
    "                        'census_tract',\n",
    "                        'derived_ethnicity', \n",
    "                        'derived_race', \n",
    "                        'action_taken', \n",
    "                        'combined_loan_to_value_ratio',\n",
    "                        'interest_rate',\n",
    "                        'property_value',\n",
    "                        'income',\n",
    "                        'debt_to_income_ratio',\n",
    "                        'rate_spread')"
   ]
  },
  {
   "cell_type": "markdown",
   "metadata": {
    "cell_id": "d45a21a40bae467ca9c661508239caff",
    "deepnote_app_coordinates": {
     "h": 2,
     "w": 8,
     "x": 0,
     "y": 220
    },
    "deepnote_cell_type": "text-cell-p",
    "formattedRanges": [],
    "is_collapsed": false,
    "tags": []
   },
   "source": [
    "I can now go ahead and create a Pandas dataframe, and for the sake of memory I drop the Spark dataframe and view."
   ]
  },
  {
   "cell_type": "code",
   "execution_count": null,
   "metadata": {
    "cell_id": "a4e852e0727348b18b0bb46a1c8cdf08",
    "deepnote_app_coordinates": {
     "h": 5,
     "w": 12,
     "x": 0,
     "y": 28
    },
    "deepnote_cell_type": "code",
    "deepnote_to_be_reexecuted": false,
    "execution_millis": 35473,
    "execution_start": 1666046972539,
    "source_hash": "13c453fd",
    "tags": []
   },
   "outputs": [],
   "source": [
    "DF = results.toPandas()\n",
    "del df_hm\n",
    "del results"
   ]
  },
  {
   "cell_type": "markdown",
   "metadata": {
    "cell_id": "e880a2bf09a242af899f1334f39ed133",
    "deepnote_app_coordinates": {
     "h": 5,
     "w": 12,
     "x": 0,
     "y": 223
    },
    "deepnote_cell_type": "text-cell-h2",
    "formattedRanges": [],
    "is_collapsed": false,
    "tags": []
   },
   "source": [
    "## Race and Ethnicity "
   ]
  },
  {
   "cell_type": "markdown",
   "metadata": {
    "cell_id": "e3c0c3482f3044288ce209a6f02b490c",
    "deepnote_app_coordinates": {
     "h": 2,
     "w": 8,
     "x": 0,
     "y": 229
    },
    "deepnote_cell_type": "text-cell-p",
    "formattedRanges": [],
    "is_collapsed": false,
    "tags": []
   },
   "source": [
    "We want to understand what data is contained within the columns of the dataframe that relate to Race and Ethnicity."
   ]
  },
  {
   "cell_type": "code",
   "execution_count": null,
   "metadata": {
    "cell_id": "dc54f108e7f3441eb0f3bec7e05e2e4b",
    "deepnote_app_coordinates": {
     "h": 5,
     "w": 12,
     "x": 0,
     "y": 34
    },
    "deepnote_cell_type": "code",
    "deepnote_to_be_reexecuted": false,
    "execution_millis": 885,
    "execution_start": 1666047008073,
    "source_hash": "876e82ae",
    "tags": []
   },
   "outputs": [],
   "source": [
    "DF['derived_race'].value_counts()"
   ]
  },
  {
   "cell_type": "markdown",
   "metadata": {
    "cell_id": "e03d120d9e7648c7bb2610144ecccb6e",
    "deepnote_app_coordinates": {
     "h": 2,
     "w": 8,
     "x": 0,
     "y": 232
    },
    "deepnote_cell_type": "text-cell-p",
    "formattedRanges": [],
    "is_collapsed": false,
    "tags": []
   },
   "source": [
    "As you can see there are labels that correspond to very small proportions of the dataset as a whole. For simplicity lets drop these for now. The same goes for ethnicity."
   ]
  },
  {
   "cell_type": "code",
   "execution_count": null,
   "metadata": {
    "cell_id": "773199911747404c9bdb6ca3f3523f44",
    "deepnote_app_coordinates": {
     "h": 5,
     "w": 12,
     "x": 0,
     "y": 40
    },
    "deepnote_cell_type": "code",
    "deepnote_to_be_reexecuted": false,
    "execution_millis": 661,
    "execution_start": 1666047008085,
    "source_hash": "124c9ba9",
    "tags": []
   },
   "outputs": [],
   "source": [
    "DF = DF.drop(DF[\n",
    "    (DF['derived_race'] == 'Free Form Text Only') |\n",
    "    (DF['derived_race'] == 'Race Not Available') |\n",
    "    (DF['derived_race'] == 'Native Hawaiian or Other Pacific Islander') | \n",
    "    (DF['derived_race'] == '2 or more minority races') |\n",
    "    (DF['derived_race'] == 'American Indian or Alaska Native') |\n",
    "    (DF['derived_race'] == 'Joint')\n",
    "].index)"
   ]
  },
  {
   "cell_type": "code",
   "execution_count": null,
   "metadata": {
    "cell_id": "9df151a470ae4caaaedddcaa8a7d2d56",
    "deepnote_app_coordinates": {
     "h": 5,
     "w": 12,
     "x": 0,
     "y": 46
    },
    "deepnote_cell_type": "code",
    "deepnote_to_be_reexecuted": false,
    "execution_millis": 225,
    "execution_start": 1666047008767,
    "source_hash": "c0565433",
    "tags": []
   },
   "outputs": [],
   "source": [
    "DF['derived_ethnicity'].value_counts()"
   ]
  },
  {
   "cell_type": "code",
   "execution_count": null,
   "metadata": {
    "cell_id": "6e88fe74d79a472dbae3d8f3f206cd61",
    "deepnote_app_coordinates": {
     "h": 5,
     "w": 12,
     "x": 0,
     "y": 52
    },
    "deepnote_cell_type": "code",
    "deepnote_to_be_reexecuted": false,
    "execution_millis": 169,
    "execution_start": 1666047008783,
    "source_hash": "46faef15",
    "tags": []
   },
   "outputs": [],
   "source": [
    "DF = DF.drop(DF[\n",
    "    (DF['derived_ethnicity'] == 'Ethnicity Not Available') |\n",
    "    (DF['derived_ethnicity'] == 'Free Form Text Only') |\n",
    "    (DF['derived_ethnicity'] == 'Joint')\n",
    "].index)"
   ]
  },
  {
   "cell_type": "markdown",
   "metadata": {
    "cell_id": "d6935a434e22455d9b67a6a0030eb7cb",
    "deepnote_app_coordinates": {
     "h": 2,
     "w": 8,
     "x": 0,
     "y": 64
    },
    "deepnote_cell_type": "text-cell-p",
    "formattedRanges": [],
    "is_collapsed": false,
    "tags": []
   },
   "source": [
    "Below we overwrite all races with ethnicity 'Hispanic'."
   ]
  },
  {
   "cell_type": "code",
   "execution_count": null,
   "metadata": {
    "cell_id": "f151d6c1bc1149149d91cf2643aa4bbb",
    "deepnote_app_coordinates": {
     "h": 5,
     "w": 12,
     "x": 0,
     "y": 67
    },
    "deepnote_cell_type": "code",
    "deepnote_to_be_reexecuted": false,
    "execution_millis": 11,
    "execution_start": 1666047009002,
    "source_hash": "d121a053",
    "tags": []
   },
   "outputs": [],
   "source": [
    "DF.loc[(DF['derived_ethnicity'] == 'Hispanic or Latino'), 'derived_race'] = 'Hispanic'\n",
    "\n",
    "# Alternatively we can split the race 'white' into 'white' and 'Hispanic'. \n",
    "# DF.loc[(DF['derived_ethnicity'] == 'Hispanic or Latino') & \n",
    "#           (DF['derived_race'] == 'White'), 'derived_race'] = 'Hispanic'"
   ]
  },
  {
   "cell_type": "code",
   "execution_count": null,
   "metadata": {
    "cell_id": "4fe08a10e0a047a0a5930d14fdfc93ed",
    "deepnote_cell_type": "code",
    "deepnote_to_be_reexecuted": false,
    "execution_millis": 71,
    "execution_start": 1666047009016,
    "source_hash": "56167fdf",
    "tags": []
   },
   "outputs": [],
   "source": [
    "DF.head()"
   ]
  },
  {
   "cell_type": "markdown",
   "metadata": {
    "cell_id": "41f32e387b0648d18f384ca0c3be00d3",
    "deepnote_cell_type": "text-cell-h2",
    "formattedRanges": [],
    "is_collapsed": false,
    "tags": []
   },
   "source": [
    "## Joining datasets"
   ]
  },
  {
   "cell_type": "markdown",
   "metadata": {
    "cell_id": "c9ec5567aa9543018a1ddc0cc6c594fb",
    "deepnote_app_coordinates": {
     "h": 2,
     "w": 8,
     "x": 0,
     "y": 73
    },
    "deepnote_cell_type": "text-cell-p",
    "formattedRanges": [],
    "is_collapsed": false,
    "tags": []
   },
   "source": [
    "Our goal is to investigate the relationship between historical redlining and mortgage applications, so we will need to add in the former. Below we load the HOLC dataset and calculate the Historical Redlining score. This is explained in the HRS map notebook."
   ]
  },
  {
   "cell_type": "code",
   "execution_count": null,
   "metadata": {
    "cell_id": "f0cd83483dc349358437f89f65481949",
    "deepnote_app_coordinates": {
     "h": 5,
     "w": 12,
     "x": 0,
     "y": 82
    },
    "deepnote_cell_type": "code",
    "deepnote_to_be_reexecuted": false,
    "execution_millis": 29,
    "execution_start": 1666047009086,
    "source_hash": "66a6c908",
    "tags": []
   },
   "outputs": [],
   "source": [
    "holc=pd.read_csv('HOLC_2020_census_tracts.csv')\n",
    "holc_rated= holc.copy(deep=True)\n",
    "holc_rated['a']= ((holc_rated['area_A'])/holc_rated['area_rated'])*1\n",
    "holc_rated['b']= ((holc_rated['area_B'])/holc_rated['area_rated'])*2\n",
    "holc_rated['c']= ((holc_rated['area_C'])/holc_rated['area_rated'])*3\n",
    "holc_rated['d']= ((holc_rated['area_D'])/holc_rated['area_rated'])*4\n",
    "holc_rated['HRS']= holc_rated[['a', 'b', 'c', 'd']].sum(axis=1)\n",
    "holc_rated = holc_rated[['class1','geoid20', 'HRS']]\n",
    "holc_rated = holc_rated.rename(columns = {'geoid20':'census_tract'})"
   ]
  },
  {
   "cell_type": "markdown",
   "metadata": {
    "cell_id": "8c067df2cdfe4243b7ac02a88fcf08e0",
    "deepnote_cell_type": "text-cell-p",
    "formattedRanges": [],
    "is_collapsed": false,
    "tags": []
   },
   "source": [
    "I use the census tract number to add the HRS to our mortgage application data, then begin to explore the first hypothesis as set out in our proposal, namely, are different groups charged different rates. Firstly there are empty and non-numeric values in those variables of interest. Also the data types are not set correctly. I deal with these below   "
   ]
  },
  {
   "cell_type": "code",
   "execution_count": null,
   "metadata": {
    "cell_id": "eb5b285d416d423297ba220efad708f3",
    "deepnote_cell_type": "code",
    "deepnote_to_be_reexecuted": false,
    "execution_millis": 633,
    "execution_start": 1666047009126,
    "source_hash": "829eabdc",
    "tags": []
   },
   "outputs": [],
   "source": [
    "DF = DF[pd.to_numeric(DF['census_tract'], errors='coerce').notnull()]\n",
    "DF = DF[pd.to_numeric(DF['interest_rate'], errors='coerce').notnull()]\n",
    "DF = DF[pd.to_numeric(DF['rate_spread'], errors='coerce').notnull()]\n",
    "DF = DF[pd.to_numeric(DF['combined_loan_to_value_ratio'], errors='coerce').notnull()]\n",
    "\n",
    "DF['census_tract'] = DF['census_tract'].astype(np.int64)\n",
    "DF['interest_rate'] = DF['interest_rate'].astype(float)\n",
    "DF['rate_spread'] = DF['rate_spread'].astype(float)\n",
    "DF['combined_loan_to_value_ratio'] = DF['combined_loan_to_value_ratio'].astype(float)"
   ]
  },
  {
   "cell_type": "markdown",
   "metadata": {
    "cell_id": "1b6bbce1266b492ea2ee340eb185e1e3",
    "deepnote_cell_type": "text-cell-p",
    "formattedRanges": [],
    "is_collapsed": false,
    "tags": []
   },
   "source": [
    "I can now add a column for the historical redlining score to the mortgage application dataframe"
   ]
  },
  {
   "cell_type": "code",
   "execution_count": null,
   "metadata": {
    "cell_id": "7d7dee6bbe5c43cbbdb5d86bfa8bf0ff",
    "deepnote_app_coordinates": {
     "h": 5,
     "w": 12,
     "x": 0,
     "y": 88
    },
    "deepnote_cell_type": "code",
    "deepnote_to_be_reexecuted": false,
    "execution_millis": 78,
    "execution_start": 1666047009768,
    "source_hash": "effce633",
    "tags": []
   },
   "outputs": [],
   "source": [
    "DF1 = pd.merge(DF, holc_rated, how='left', on='census_tract')\n",
    "DF1 = DF1.dropna(subset=['HRS'])"
   ]
  },
  {
   "cell_type": "markdown",
   "metadata": {
    "cell_id": "fa134e450372479698803ddcef461414",
    "deepnote_cell_type": "text-cell-h3",
    "formattedRanges": [],
    "is_collapsed": false,
    "tags": []
   },
   "source": [
    "### Mean Interest rates by Race/Ethnicity"
   ]
  },
  {
   "cell_type": "markdown",
   "metadata": {
    "cell_id": "6a0013835e6b4610b87bd29f86fd773f",
    "deepnote_cell_type": "text-cell-p",
    "formattedRanges": [],
    "is_collapsed": false,
    "tags": []
   },
   "source": [
    "As you can see below, there are differences in the mean interest rate paid by different groups, and also the mean rate spread, which is the difference between the interest rate and the average prime offer rate (APOR) for a comparable transaction. These differences are statistically significant. In the other notebooks we apply these calculations to a broader section of the dataset, so the results are different."
   ]
  },
  {
   "cell_type": "code",
   "execution_count": null,
   "metadata": {
    "cell_id": "68369b99cde84f3c8470ce297e8dab17",
    "deepnote_app_coordinates": {
     "h": 5,
     "w": 12,
     "x": 0,
     "y": 94
    },
    "deepnote_cell_type": "code",
    "deepnote_to_be_reexecuted": false,
    "execution_millis": 6,
    "execution_start": 1666047009885,
    "source_hash": "c272a84c",
    "tags": []
   },
   "outputs": [],
   "source": [
    "DF1.groupby(['derived_race'])['interest_rate'].mean()"
   ]
  },
  {
   "cell_type": "code",
   "execution_count": null,
   "metadata": {
    "cell_id": "621eeb0dfe22484aa7c7ab70ce9fc310",
    "deepnote_app_coordinates": {
     "h": 5,
     "w": 12,
     "x": 0,
     "y": 100
    },
    "deepnote_cell_type": "code",
    "deepnote_to_be_reexecuted": false,
    "execution_millis": 5,
    "execution_start": 1666047009886,
    "source_hash": "79fa2b64",
    "tags": []
   },
   "outputs": [],
   "source": [
    "DF1.groupby(['derived_race'])['rate_spread'].mean()"
   ]
  },
  {
   "cell_type": "code",
   "execution_count": null,
   "metadata": {
    "cell_id": "a525a1f3a9a34ae2992fe043d4b1449e",
    "deepnote_app_coordinates": {
     "h": 5,
     "w": 12,
     "x": 0,
     "y": 106
    },
    "deepnote_cell_type": "code",
    "deepnote_to_be_reexecuted": false,
    "execution_millis": 14,
    "execution_start": 1666047009887,
    "source_hash": "93c9c775",
    "tags": []
   },
   "outputs": [],
   "source": [
    "ttest_ind(DF1[DF1['derived_race'] == 'Hispanic']['interest_rate'],\n",
    "          DF1[DF1['derived_race'] == 'White']['interest_rate'])"
   ]
  },
  {
   "cell_type": "code",
   "execution_count": null,
   "metadata": {
    "cell_id": "dfdcaf05c2204d3cbe8012a71847f583",
    "deepnote_app_coordinates": {
     "h": 5,
     "w": 12,
     "x": 0,
     "y": 112
    },
    "deepnote_cell_type": "code",
    "deepnote_to_be_reexecuted": false,
    "execution_millis": 34,
    "execution_start": 1666047009899,
    "source_hash": "c55007c3",
    "tags": []
   },
   "outputs": [],
   "source": [
    "ttest_ind(DF1[DF1['derived_race'] == 'Hispanic']['rate_spread'],\n",
    "          DF1[DF1['derived_race'] == 'White']['rate_spread'])"
   ]
  },
  {
   "cell_type": "markdown",
   "metadata": {
    "cell_id": "694fe4659f7f44bea12e90f74ec0df2c",
    "deepnote_cell_type": "text-cell-p",
    "formattedRanges": [],
    "is_collapsed": false,
    "tags": []
   },
   "source": [
    "Below we look for correlations between the HRS and other variables of interest. As you can see there are outliers in the interest rate and combined loan to value ratio. There is also a concentration of datapoints where the HRS takes an integer value. There also appears to be a very low correlation between the HRS score and other variables of interest. This is not good news for any potential regression analysis. "
   ]
  },
  {
   "cell_type": "code",
   "execution_count": null,
   "metadata": {
    "cell_id": "1b12adc914634e4d9288b9b86b1e6aca",
    "deepnote_cell_type": "code",
    "deepnote_to_be_reexecuted": false,
    "execution_millis": 476,
    "execution_start": 1666047009922,
    "source_hash": "a77cd8bc",
    "tags": []
   },
   "outputs": [],
   "source": [
    "fig, (ax1, ax2) = plt.subplots(1, 2)\n",
    "ax1.set_title('Interest v HRS')\n",
    "ax1.plot(DF1['HRS'], DF1['interest_rate'],'.')\n",
    "ax2.set_title('Interest v combined_loan_to_value_ratio')\n",
    "ax2.plot(DF1['combined_loan_to_value_ratio'], DF1['interest_rate'],'.')"
   ]
  },
  {
   "cell_type": "code",
   "execution_count": null,
   "metadata": {
    "cell_id": "0bc5bdcbef014e9bbb7b35f435454bb0",
    "deepnote_app_coordinates": {
     "h": 5,
     "w": 12,
     "x": 0,
     "y": 124
    },
    "deepnote_cell_type": "code",
    "deepnote_to_be_reexecuted": false,
    "execution_millis": 4,
    "execution_start": 1666047010441,
    "source_hash": "11ba69c7",
    "tags": []
   },
   "outputs": [],
   "source": [
    "np.corrcoef(DF1['HRS'], DF1['interest_rate'])"
   ]
  },
  {
   "cell_type": "code",
   "execution_count": null,
   "metadata": {
    "cell_id": "dfe3f7256cf64676b990aeb8daf6c7ae",
    "deepnote_app_coordinates": {
     "h": 5,
     "w": 12,
     "x": 0,
     "y": 142
    },
    "deepnote_cell_type": "code",
    "deepnote_to_be_reexecuted": false,
    "execution_millis": 3,
    "execution_start": 1666047010442,
    "source_hash": "faababcc",
    "tags": []
   },
   "outputs": [],
   "source": [
    "np.corrcoef(DF1['combined_loan_to_value_ratio'], DF1['interest_rate'])"
   ]
  },
  {
   "cell_type": "markdown",
   "metadata": {
    "cell_id": "3d640bc88d274428ab32b0507b947f9f",
    "deepnote_cell_type": "text-cell-h2",
    "formattedRanges": [],
    "is_collapsed": false,
    "tags": []
   },
   "source": [
    "## Applications by HRS and Race/Ethnicity"
   ]
  },
  {
   "cell_type": "markdown",
   "metadata": {
    "cell_id": "e236c822f3494676afd8337849b17ea7",
    "deepnote_cell_type": "text-cell-p",
    "formattedRanges": [],
    "is_collapsed": false,
    "tags": []
   },
   "source": [
    "It would be instructive to get a broad overview of mortgage applications by HRS and race. In order to do so we created bins which correspond to the grades ungraded, A, B, C, D."
   ]
  },
  {
   "cell_type": "code",
   "execution_count": null,
   "metadata": {
    "cell_id": "cc1173255ea54411a6395017d61f09b5",
    "deepnote_app_coordinates": {
     "h": 5,
     "w": 12,
     "x": 0,
     "y": 148
    },
    "deepnote_cell_type": "code",
    "deepnote_to_be_reexecuted": false,
    "execution_millis": 0,
    "execution_start": 1666047010443,
    "source_hash": "c5d75549",
    "tags": []
   },
   "outputs": [],
   "source": [
    "AltChart1DF = DF1.copy(deep=True)\n",
    "AltChart1DF = AltChart1DF[['HRS','derived_race']]"
   ]
  },
  {
   "cell_type": "code",
   "execution_count": null,
   "metadata": {
    "cell_id": "64913dad62c14a7cb9d65e5fd70b6109",
    "deepnote_app_coordinates": {
     "h": 5,
     "w": 12,
     "x": 0,
     "y": 154
    },
    "deepnote_cell_type": "code",
    "deepnote_to_be_reexecuted": false,
    "execution_millis": 9,
    "execution_start": 1666047010444,
    "source_hash": "e6d95e60",
    "tags": []
   },
   "outputs": [],
   "source": [
    "conditions = [\n",
    "    (AltChart1DF['HRS'] <= 1.75),\n",
    "    (AltChart1DF['HRS'] > 1.76) & (AltChart1DF['HRS'] <= 2.49),\n",
    "    (AltChart1DF['HRS'] > 2.5) & (AltChart1DF['HRS'] <= 3.3),\n",
    "    (AltChart1DF['HRS'] > 3.3)\n",
    "    ]\n",
    "\n",
    "# create a list of the values we want to assign for each condition\n",
    "values = ['HRS 1-1.75', 'HRS 1.76-2.49', 'HRS 2.50-3.3', 'HRS > 3.3']\n",
    "\n",
    "# create a new column and use np.select to assign values to it using our lists as arguments\n",
    "AltChart1DF['HRS binned'] = np.select(conditions, values)"
   ]
  },
  {
   "cell_type": "code",
   "execution_count": null,
   "metadata": {
    "cell_id": "547a3bcded744f17b808f37289295c19",
    "deepnote_cell_type": "code",
    "deepnote_to_be_reexecuted": false,
    "execution_millis": 97,
    "execution_start": 1666047010581,
    "source_hash": "a83a6b97",
    "tags": []
   },
   "outputs": [],
   "source": [
    "alt.Chart(AltChart1DF).mark_bar().encode(\n",
    "    y=alt.Y('HRS binned:N'),\n",
    "    x=alt.X('count(HRS binned):Q',\n",
    "    title='Number of Applications'),\n",
    "    color=alt.Color('derived_race:N',\n",
    "    legend=alt.Legend(title='Race or Ethnicity')),\n",
    "    order=alt.Order('derived_race',\n",
    "      sort='descending'\n",
    "    )\n",
    ").properties(height=400, width=300,\n",
    "    title='Loan Applications by HRS (binned)').configure_axis(\n",
    "    grid=False\n",
    ").configure_title(fontSize=14).configure(background='#FFFFFF').configure_axis(\n",
    "    grid=False)\n"
   ]
  },
  {
   "cell_type": "markdown",
   "metadata": {
    "cell_id": "08eef8f6fc2b47b5be54bf8eb2aa29f5",
    "deepnote_cell_type": "text-cell-h3",
    "formattedRanges": [],
    "is_collapsed": false,
    "tags": []
   },
   "source": [
    "### Approval/Denial by race"
   ]
  },
  {
   "cell_type": "markdown",
   "metadata": {
    "cell_id": "51a7154a731548f581c1ba39207e1572",
    "deepnote_cell_type": "text-cell-p",
    "formattedRanges": [],
    "is_collapsed": false,
    "tags": []
   },
   "source": [
    "Below we take a quick look at the raw numbers for mortgage approval/denial by race"
   ]
  },
  {
   "cell_type": "code",
   "execution_count": null,
   "metadata": {
    "cell_id": "511416458f364d7fb4ebdb29ac6c269f",
    "deepnote_app_coordinates": {
     "h": 5,
     "w": 12,
     "x": 0,
     "y": 166
    },
    "deepnote_cell_type": "code",
    "deepnote_to_be_reexecuted": false,
    "execution_millis": 4902449,
    "execution_start": 1666047010673,
    "source_hash": "3ee82528",
    "tags": []
   },
   "outputs": [],
   "source": [
    "DF1['action_taken'].replace(['8','2'], '0', inplace=True)"
   ]
  },
  {
   "cell_type": "code",
   "execution_count": null,
   "metadata": {
    "cell_id": "c181da7558294fcab67b1fad1b5a3d1b",
    "deepnote_app_coordinates": {
     "h": 5,
     "w": 12,
     "x": 0,
     "y": 172
    },
    "deepnote_cell_type": "code",
    "deepnote_to_be_reexecuted": false,
    "execution_millis": 12,
    "execution_start": 1666047010687,
    "source_hash": "494713a2",
    "tags": []
   },
   "outputs": [],
   "source": [
    "DF1.groupby(['derived_race','action_taken'])['action_taken'].count()"
   ]
  }
 ],
 "metadata": {
  "deepnote": {},
  "deepnote_app_layout": "article",
  "deepnote_execution_queue": [],
  "deepnote_notebook_id": "043d70b9f57c4102a09f1a1fd43b5863",
  "kernelspec": {
   "display_name": "Python 3 (ipykernel)",
   "language": "python",
   "name": "python3"
  },
  "language_info": {
   "codemirror_mode": {
    "name": "ipython",
    "version": 3
   },
   "file_extension": ".py",
   "mimetype": "text/x-python",
   "name": "python",
   "nbconvert_exporter": "python",
   "pygments_lexer": "ipython3",
   "version": "3.9.7"
  }
 },
 "nbformat": 4,
 "nbformat_minor": 4
}
