{
 "cells": [
  {
   "cell_type": "markdown",
   "metadata": {
    "cell_id": "46dca9ad04d241ec8b7b78e75be83f72",
    "deepnote_cell_type": "text-cell-h1",
    "formattedRanges": [],
    "is_collapsed": false,
    "tags": []
   },
   "source": [
    "# Los Angeles, CA  Redlining analysis"
   ]
  },
  {
   "cell_type": "code",
   "execution_count": null,
   "metadata": {
    "cell_id": "e0e9ae3d684f4c9c9fc12890a8cbdff8",
    "deepnote_cell_type": "code",
    "deepnote_to_be_reexecuted": false,
    "execution_millis": 1811,
    "execution_start": 1666016267298,
    "output_cleared": false,
    "source_hash": "7c7a3fa9",
    "tags": []
   },
   "outputs": [],
   "source": [
    "# Load libraries\n",
    "import pandas as pd\n",
    "import numpy as np\n",
    "import altair as alt\n",
    "import geopandas as gpd\n",
    "import pyspark\n",
    "import censusdata\n",
    "from pyspark.sql import SparkSession \n",
    "from pyspark.sql.functions  import col, when, lit\n",
    "from pyspark.sql import functions as f\n",
    "\n",
    "from vega_datasets import data\n",
    "alt.data_transformers.disable_max_rows()\n",
    "\n",
    "from io import StringIO\n",
    "alt.themes.enable(\"fivethirtyeight\") # visualization theme\n"
   ]
  },
  {
   "cell_type": "markdown",
   "metadata": {
    "cell_id": "a42916f6-835a-45a3-8885-1e7f063978b0",
    "deepnote_cell_type": "text-cell-h3",
    "formattedRanges": [],
    "is_collapsed": false,
    "tags": []
   },
   "source": [
    "### Loading county codes and geolocation."
   ]
  },
  {
   "cell_type": "markdown",
   "metadata": {
    "cell_id": "28f19002-3e3e-424d-a27a-df34a0638ad7",
    "deepnote_cell_type": "text-cell-p",
    "formattedRanges": [],
    "is_collapsed": false,
    "tags": []
   },
   "source": [
    "We would like to explore if redlining was more prevalent in certain areas of the country. For that we will use two more datasets for plotting."
   ]
  },
  {
   "cell_type": "markdown",
   "metadata": {
    "cell_id": "c53bab9b-b59a-415e-b1c0-16ac2d421fc4",
    "deepnote_cell_type": "text-cell-number",
    "formattedRanges": [
     {
      "fromCodePoint": 0,
      "ranges": [],
      "toCodePoint": 72,
      "type": "link",
      "url": "https://github.com/btskinner/spatial/blob/master/data/county_centers.csv"
     }
    ],
    "is_collapsed": false,
    "number": 1,
    "style": "decimal",
    "tags": []
   },
   "source": [
    "1. https://github.com/btskinner/spatial/blob/master/data/county_centers.csv"
   ]
  },
  {
   "cell_type": "markdown",
   "metadata": {
    "cell_id": "e1e94197-5c40-4946-9ee9-fde62bddc75a",
    "deepnote_cell_type": "text-cell-number",
    "formattedRanges": [
     {
      "fromCodePoint": 0,
      "ranges": [],
      "toCodePoint": 82,
      "type": "link",
      "url": "https://github.com/kjhealy/fips-codes/blob/master/state_and_county_fips_master.csv"
     }
    ],
    "is_collapsed": false,
    "style": "decimal",
    "tags": []
   },
   "source": [
    "undefined. https://github.com/kjhealy/fips-codes/blob/master/state_and_county_fips_master.csv"
   ]
  },
  {
   "cell_type": "code",
   "execution_count": null,
   "metadata": {
    "cell_id": "cbdbc9b9c6ab4691bd02025a4202454f",
    "deepnote_cell_type": "code",
    "deepnote_table_loading": false,
    "deepnote_table_state": {
     "filters": [],
     "pageIndex": 0,
     "pageSize": 10,
     "sortBy": []
    },
    "deepnote_to_be_reexecuted": false,
    "execution_millis": 387,
    "execution_start": 1666016268730,
    "output_cleared": false,
    "source_hash": "8ed60ee8",
    "tags": []
   },
   "outputs": [],
   "source": [
    "states=pd.read_csv('state_fips.csv', dtype={'fips': str})\n",
    "states['fips'] = states['fips'].str.zfill(5)\n",
    "fips= pd.read_csv('fipsnames-20221011-151647.csv', dtype={'fips': str})\n",
    "fips= pd.merge(fips[['fips', 'clon00', 'clat00']], states[['fips', 'name']],how='left',on='fips')\n",
    "fips.head(3)"
   ]
  },
  {
   "cell_type": "markdown",
   "metadata": {
    "cell_id": "65961a4d-2cbb-42b6-a36c-be1e64e49202",
    "deepnote_cell_type": "text-cell-h3",
    "formattedRanges": [],
    "is_collapsed": false,
    "tags": []
   },
   "source": [
    "### Load dataset HOLC "
   ]
  },
  {
   "cell_type": "markdown",
   "metadata": {
    "cell_id": "1379f25f-fa2b-4465-9e57-db2ffc84e2d8",
    "deepnote_cell_type": "text-cell-p",
    "formattedRanges": [],
    "is_collapsed": false,
    "tags": []
   },
   "source": [
    "Calculate Historical Redlining Score (HRS) by calculating the grade weights. "
   ]
  },
  {
   "cell_type": "markdown",
   "metadata": {
    "cell_id": "33e85e25-6bdb-4067-94e8-69879067d836",
    "deepnote_cell_type": "text-cell-number",
    "formattedRanges": [],
    "is_collapsed": false,
    "tags": []
   },
   "source": [
    "undefined. Calculate the percentage of weighted area. Ex. area_A divided by area_rated."
   ]
  },
  {
   "cell_type": "markdown",
   "metadata": {
    "cell_id": "52aef431-af1c-472e-baca-49596bffd2f7",
    "deepnote_cell_type": "text-cell-number",
    "formattedRanges": [],
    "is_collapsed": false,
    "tags": []
   },
   "source": [
    "undefined. Multiply by the HOLC grade factor : A= 1, B=2, C=3, D=4"
   ]
  },
  {
   "cell_type": "markdown",
   "metadata": {
    "cell_id": "8f375d4c-ce38-47ee-a63e-9d2a45ba4e55",
    "deepnote_cell_type": "text-cell-number",
    "formattedRanges": [],
    "is_collapsed": false,
    "tags": []
   },
   "source": [
    "undefined. Final Score. The level of redlining goes from 1-4 with 1 being low redlining and 4 high."
   ]
  },
  {
   "cell_type": "markdown",
   "metadata": {
    "cell_id": "d458531f-12ac-434d-be31-9088aa1a91fd",
    "deepnote_cell_type": "text-cell-p",
    "formattedRanges": [
     {
      "fromCodePoint": 35,
      "ranges": [],
      "toCodePoint": 68,
      "type": "link",
      "url": "https://ncrc.org/redlining-score/"
     }
    ],
    "is_collapsed": false,
    "tags": []
   },
   "source": [
    "This methodology was obtained from https://ncrc.org/redlining-score/"
   ]
  },
  {
   "cell_type": "code",
   "execution_count": null,
   "metadata": {
    "cell_id": "d763c90b2daa42cf9be6538aab94bddf",
    "deepnote_cell_type": "code",
    "deepnote_table_loading": false,
    "deepnote_table_state": {
     "filters": [],
     "pageIndex": 0,
     "pageSize": 10,
     "sortBy": []
    },
    "deepnote_to_be_reexecuted": false,
    "execution_millis": 309,
    "execution_start": 1666016268905,
    "output_cleared": false,
    "source_hash": "2506d35",
    "tags": []
   },
   "outputs": [],
   "source": [
    "holc_rated=pd.read_csv('HOLC_2020_census_tracts.csv', dtype={'geoid20': str})\n",
    "#calculate % of rated area\n",
    "holc_rated['A']= holc_rated['area_A']/holc_rated['area_rated']\n",
    "holc_rated['B']= holc_rated['area_B']/holc_rated['area_rated']\n",
    "holc_rated['C']= holc_rated['area_C']/holc_rated['area_rated']\n",
    "holc_rated['D']= holc_rated['area_D']/holc_rated['area_rated']\n",
    "\n",
    "#used NCRC methodology to calculate HRS (Historic redlinning score)\n",
    "holc_rated['a']= holc_rated['A']*1\n",
    "holc_rated['b']= holc_rated['B']*2\n",
    "holc_rated['c']= holc_rated['C']*3\n",
    "holc_rated['d']= holc_rated['D']*4\n",
    "holc_rated['HRS']= holc_rated[['a', 'b', 'c', 'd']].sum(axis=1)\n",
    "\n",
    "holc_rated['fips']= holc_rated['geoid20'].str[:5]  #extract county code also known as fips\n",
    "holc_rated.rename(columns={'geoid20':'GEOID'}, inplace=True)\n",
    "holc_rated.head(3)"
   ]
  },
  {
   "cell_type": "markdown",
   "metadata": {
    "cell_id": "2eb20195-8c14-4fdd-863c-fe24fecd6fa4",
    "deepnote_cell_type": "text-cell-p",
    "formattedRanges": [],
    "is_collapsed": false,
    "tags": []
   },
   "source": [
    "We will joined the newly created fips file with HOLC to plot counties and percentage of redlining "
   ]
  },
  {
   "cell_type": "code",
   "execution_count": null,
   "metadata": {
    "cell_id": "adaf360e9e81406e914c9ea76c05840f",
    "deepnote_cell_type": "code",
    "deepnote_to_be_reexecuted": false,
    "execution_millis": 150,
    "execution_start": 1666016269225,
    "source_hash": "249a11eb",
    "tags": []
   },
   "outputs": [],
   "source": [
    "holc_fips= holc_rated[['fips', 'A', 'B', 'C', 'D', 'HRS']].groupby('fips').mean()\n",
    "holc_fips.reset_index(inplace=True)\n",
    "holc_fips[\"id\"] = holc_fips[\"fips\"].astype(int)\n",
    "holc_fips= pd.merge(holc_fips, fips,how='left',on='fips')\n",
    "\n",
    "#Long form for plotting\n",
    "holc_fipsL= pd.melt(holc_fips, id_vars=['fips', 'id', 'name', 'clon00', 'clat00', 'HRS' ], value_vars=['A', 'B', 'C', \n",
    "    'D'], ignore_index=False)\n",
    "\n",
    "holc_fips.head(3)"
   ]
  },
  {
   "cell_type": "markdown",
   "metadata": {
    "cell_id": "20705276a2704aa7a8a7952317a27b6c",
    "deepnote_cell_type": "text-cell-h3",
    "formattedRanges": [],
    "is_collapsed": false,
    "tags": []
   },
   "source": [
    "### Filter Los Angeles County (fips 06037)"
   ]
  },
  {
   "cell_type": "code",
   "execution_count": null,
   "metadata": {
    "cell_id": "a7aa368db12a47558868c259b431080c",
    "deepnote_cell_type": "code",
    "deepnote_table_loading": false,
    "deepnote_table_state": {
     "filters": [],
     "pageIndex": 0,
     "pageSize": 10,
     "sortBy": []
    },
    "deepnote_to_be_reexecuted": false,
    "execution_millis": 389,
    "execution_start": 1666016269374,
    "output_cleared": false,
    "source_hash": "f384dea9",
    "tags": []
   },
   "outputs": [],
   "source": [
    "LA_holc= holc_rated.loc[holc_rated.fips.str.startswith('06037')]\n",
    "LA_holc.rename(columns={'geoid20':'GEOID'}, inplace=True)\n",
    "LA_holc.head(3)"
   ]
  },
  {
   "cell_type": "markdown",
   "metadata": {
    "cell_id": "ca693490dc8b4bf89cffbd8cb54c10f5",
    "deepnote_cell_type": "text-cell-h3",
    "formattedRanges": [],
    "is_collapsed": false,
    "tags": []
   },
   "source": [
    "### Plotting redlining rate by census tract"
   ]
  },
  {
   "cell_type": "markdown",
   "metadata": {
    "cell_id": "8218a3540b334881b4eea4d40d2bbf8a",
    "deepnote_cell_type": "text-cell-p",
    "formattedRanges": [
     {
      "fromCodePoint": 62,
      "ranges": [],
      "toCodePoint": 117,
      "type": "link",
      "url": "https://www.census.gov/cgi-bin/geo/shapefiles/index.php"
     },
     {
      "fromCodePoint": 193,
      "ranges": [],
      "toCodePoint": 218,
      "type": "link",
      "url": "https://ogre.adc4gis.com/"
     }
    ],
    "is_collapsed": false,
    "tags": []
   },
   "source": [
    "We will use a Geojson file. The shape file was dowloaded from https://www.census.gov/cgi-bin/geo/shapefiles/index.php.  And we use OGRE shape convertor to transform the .shape file to Geojson (https://ogre.adc4gis.com/"
   ]
  },
  {
   "cell_type": "code",
   "execution_count": null,
   "metadata": {
    "cell_id": "f48625fea4e34ee582f57e7374ac68a6",
    "deepnote_cell_type": "code",
    "deepnote_table_loading": false,
    "deepnote_table_state": {
     "filters": [],
     "pageIndex": 0,
     "pageSize": 10,
     "sortBy": []
    },
    "deepnote_to_be_reexecuted": false,
    "execution_millis": 5249,
    "execution_start": 1666016269754,
    "output_cleared": false,
    "source_hash": "d969fc61",
    "tags": []
   },
   "outputs": [],
   "source": [
    "#load geojson file to create map\n",
    "cali= gpd.read_file('06307tract_ogre.json')\n",
    "cali['GEOID']= '06037'+cali['CT20'] #add GEOID census tract number\n",
    "cali.head(3)"
   ]
  },
  {
   "cell_type": "code",
   "execution_count": null,
   "metadata": {
    "cell_id": "b0163a2306274665aeca3fdaa3bf10e7",
    "deepnote_cell_type": "code",
    "deepnote_to_be_reexecuted": false,
    "execution_millis": 1161,
    "execution_start": 1666016274047,
    "output_cleared": false,
    "source_hash": "1b33efa3",
    "tags": []
   },
   "outputs": [],
   "source": [
    "#merge the HRS with the Geojson shape. \n",
    "cali_plus_geo=pd.merge(cali[['GEOID', 'geometry']], holc_rated[['GEOID', 'HRS']],how='left',on='GEOID')\n",
    "cali_plus_geo"
   ]
  },
  {
   "cell_type": "code",
   "execution_count": null,
   "metadata": {
    "cell_id": "f3ce06663db6464e99609a91813106fa",
    "deepnote_cell_type": "code",
    "deepnote_to_be_reexecuted": false,
    "execution_millis": 10105,
    "execution_start": 1666016274615,
    "output_cleared": false,
    "source_hash": "240f4d9e",
    "tags": []
   },
   "outputs": [],
   "source": [
    "#Altair chart of neighborhood outlines\n",
    "neighborhoods = alt.Chart(cali_plus_geo\n",
    "        ).mark_geoshape(stroke = 'lightgray',strokeWidth=0.5,\n",
    "        ).encode(color= alt.Color('HRS:Q', scale=alt.Scale(\n",
    "            scheme=\"redyellowgreen\",\n",
    "            reverse=True\n",
    "        )),\n",
    "            tooltip=[alt.Tooltip('HRS:Q')]\n",
    "        ).properties(\n",
    "    width=500,\n",
    "    height=500,\n",
    "    title=alt.TitleParams(\n",
    "            text='Los Angeles County HRS Score by Census Tract')\n",
    ")\n",
    "neighborhoods.configure(background='#FFFFFF')"
   ]
  },
  {
   "cell_type": "markdown",
   "metadata": {
    "cell_id": "bc7de86eec7d49b3a4336316c67292a5",
    "deepnote_cell_type": "text-cell-h3",
    "formattedRanges": [],
    "is_collapsed": false,
    "tags": []
   },
   "source": [
    "### Census Data"
   ]
  },
  {
   "cell_type": "markdown",
   "metadata": {
    "cell_id": "cfa766e54bcb455ca4b7f0c67758c3bf",
    "deepnote_cell_type": "text-cell-p",
    "formattedRanges": [
     {
      "fromCodePoint": 177,
      "ranges": [],
      "toCodePoint": 213,
      "type": "link",
      "url": "https://pypi.org/project/CensusData/"
     }
    ],
    "is_collapsed": false,
    "tags": []
   },
   "source": [
    "Next, we will compare the demographics of ungraded and graded areas. For this we will use census data available to python library Censusdata. Library documentation can be found https://pypi.org/project/CensusData/. "
   ]
  },
  {
   "cell_type": "code",
   "execution_count": null,
   "metadata": {
    "cell_id": "bb0cca937b9c473388ce2eca24de00f5",
    "deepnote_cell_type": "code",
    "deepnote_to_be_reexecuted": false,
    "execution_millis": 1653,
    "execution_start": 1666016283484,
    "source_hash": "734ed3b7",
    "tags": []
   },
   "outputs": [],
   "source": [
    "#dowload census data\n",
    "county_pop = censusdata.download('acs5', 2015, censusdata.censusgeo([('state', '06'), ('county', '037'),\n",
    "                                ('block group', '*')]),\n",
    "                                ['B02001_001E', 'B02001_002E', 'B25081_001E', 'B25081_008E', \n",
    "                                'B25002_001E', 'B25002_002E', 'B25002_003E', 'B11001_002E'])\n",
    "county_pop.rename(columns={'B02001_001E':'population_total', 'B02001_002E':'white_pop',\n",
    "  'B25081_001E':'total_houses','B25081_008E':'houses_wo_mortgage','B25002_001E': 'occupancy_total', \n",
    "  'B25002_002E': 'occupied', 'B25002_003E': 'Vacant', 'B11001_002E':'families'}, inplace=True)\n",
    "\n",
    "county_pop.reset_index(inplace=True)\n",
    "county_pop"
   ]
  },
  {
   "cell_type": "markdown",
   "metadata": {
    "cell_id": "f1ced42ae4c8416da8bd18186ee53e85",
    "deepnote_cell_type": "text-cell-p",
    "formattedRanges": [],
    "is_collapsed": false,
    "tags": []
   },
   "source": [
    "Since the census data does not contain the five digit fips code for each county, we will perform some transformation "
   ]
  },
  {
   "cell_type": "code",
   "execution_count": null,
   "metadata": {
    "cell_id": "4ff52c23961b460a86ca08d9533ca036",
    "deepnote_cell_type": "code",
    "deepnote_to_be_reexecuted": false,
    "execution_millis": 258,
    "execution_start": 1666016285057,
    "source_hash": "173104b1",
    "tags": []
   },
   "outputs": [],
   "source": [
    "#extract state and 3 digit county code and tract number. And build fips code and GEO (censustract). \n",
    "county_pop['state']= county_pop['index'].astype(str).str.extract(r'(state:\\d{2})')\n",
    "county_pop['county']= county_pop['index'].astype(str).str.extract(r'(county:\\d{3})')\n",
    "county_pop['tract']= county_pop['index'].astype(str).str.extract(r'(Tract \\d{4}.\\d{2})')\n",
    "county_pop['county']= county_pop['county'].str.replace(\"county:\", \"\")\n",
    "county_pop['state']= county_pop['state'].str.replace(\"state:\", \"\")\n",
    "county_pop['tract']= county_pop['tract'].str.replace(\"Tract \", \"\")\n",
    "county_pop['tract']= county_pop['tract'].str.replace(\".\", \"\")\n",
    "county_pop['fips']= county_pop['state']+ county_pop['county']\n",
    "county_pop['GEOID']= county_pop['state']+ county_pop['county']+ county_pop['tract'] # census tract number\n",
    "county_pop.drop(columns=['state', 'county',], inplace=True)\n",
    "county_pop"
   ]
  },
  {
   "cell_type": "markdown",
   "metadata": {
    "cell_id": "346f59134523422687f6d3aa52b312bf",
    "deepnote_cell_type": "text-cell-p",
    "formattedRanges": [],
    "is_collapsed": false,
    "tags": []
   },
   "source": [
    "We will calculate the vacancy, mortgage and minority percentages"
   ]
  },
  {
   "cell_type": "code",
   "execution_count": null,
   "metadata": {
    "cell_id": "8e8593f84eb04a3d9e23d9e44f77cde7",
    "deepnote_cell_type": "code",
    "deepnote_to_be_reexecuted": false,
    "execution_millis": 183,
    "execution_start": 1666016285314,
    "source_hash": "d3cf5c3c",
    "tags": []
   },
   "outputs": [],
   "source": [
    "county_pop['vacant_perc']= county_pop['Vacant']/county_pop['total_houses']\n",
    "county_pop['mortgage_perc']= 1-(county_pop['houses_wo_mortgage']/county_pop['total_houses'])\n",
    "county_pop['minority_perc']= 1-(county_pop['white_pop']/county_pop['population_total'])\n",
    "county_pop['Families_perc']= county_pop['families']/county_pop['total_houses']\n",
    "county_pop"
   ]
  },
  {
   "cell_type": "markdown",
   "metadata": {
    "cell_id": "3557d5bae1754503bfd27d0fa5401ba2",
    "deepnote_cell_type": "text-cell-h3",
    "formattedRanges": [],
    "is_collapsed": false,
    "tags": []
   },
   "source": [
    "### Joining redlining and census data "
   ]
  },
  {
   "cell_type": "markdown",
   "metadata": {
    "cell_id": "17dd9a510f3e426f9314861f26d7aa1c",
    "deepnote_cell_type": "text-cell-p",
    "formattedRanges": [],
    "is_collapsed": false,
    "tags": []
   },
   "source": [
    "We will join the HRS with current census data, to see the demographic composition and HRS grading together.  "
   ]
  },
  {
   "cell_type": "markdown",
   "metadata": {
    "cell_id": "53c114f9-e511-4168-9476-929cc5018b53",
    "deepnote_cell_type": "text-cell-p",
    "formattedRanges": [],
    "is_collapsed": false,
    "tags": []
   },
   "source": [
    "Minority percentage steadily increases from ungraded to grade D. We can also see that the % of vacant units doubles between graded A areas and Graded D. mortgage percentage is similar between all ar"
   ]
  },
  {
   "cell_type": "code",
   "execution_count": null,
   "metadata": {
    "cell_id": "36cf84b46bc942cc83aa3e7b9fd968cc",
    "deepnote_cell_type": "code",
    "deepnote_table_loading": false,
    "deepnote_table_state": {
     "filters": [
      {
       "id": "grade",
       "type": "contains",
       "value": "A"
      }
     ],
     "pageIndex": 0,
     "pageSize": 10,
     "sortBy": []
    },
    "deepnote_to_be_reexecuted": false,
    "execution_millis": 164,
    "execution_start": 1666016285506,
    "source_hash": "4e2da17a",
    "tags": []
   },
   "outputs": [],
   "source": [
    "#merge HOLC, and census data\n",
    "holc_rated= pd.merge(LA_holc, county_pop[['GEOID', 'population_total', 'total_houses', 'families',\n",
    "    'vacant_perc', 'mortgage_perc', 'minority_perc']],\n",
    "    how='right',on='GEOID')\n",
    "holc_rated['HRS'] = holc_rated['HRS'].fillna(0.1)\n",
    "holc_rated['grade'] = pd.cut(holc_rated['HRS'], bins=[0,1, 1.75, 2.49, 3.3, 4], labels=['Ungraded', 'A','B', \n",
    "    'C', 'D'])\n",
    "holc_rated=holc_rated[holc_rated.replace([np.inf, -np.inf], np.nan).notnull().all(axis=1)] \n",
    "holc_rated"
   ]
  },
  {
   "cell_type": "markdown",
   "metadata": {
    "cell_id": "864f803ceab14572a6617eaafd7ed346",
    "deepnote_cell_type": "text-cell-p",
    "formattedRanges": [],
    "is_collapsed": false,
    "tags": []
   },
   "source": [
    "Los Angeles one of the largest counties in the nation, we will explore if t= the conditions differed significantly from the rest of the country. Census tract demographics  by HRS grade show that  83% of the populations lives in census tracts graded ‘C’ or ‘D’ and the number of families exceeds the number of houses, this indicates more than one family may live in a house. Also, the mean percentage of vacant properties increases by over 27% when we compare grades ‘B’ to “C” and “D”. \n",
    "     So we wonder is there are vacant properties. Why some Los Angeles  families decide to live in the same house? Is it possible that they are unable to get mortgages? We decided to use a logistic regression to see if the probability of approval differs based on race in Los Angeles neighborhoods. \n"
   ]
  },
  {
   "cell_type": "code",
   "execution_count": null,
   "metadata": {
    "cell_id": "7b2ab319f36e40e5a7d092ddb5d773f6",
    "deepnote_cell_type": "code",
    "deepnote_to_be_reexecuted": false,
    "execution_millis": 43,
    "execution_start": 1666016285674,
    "source_hash": "6b73c513",
    "tags": []
   },
   "outputs": [],
   "source": [
    "#aggreagate values by HRS grading \n",
    "names = {'population_total':'population_total', 'total_houses':'total_houses', 'families':'families',\n",
    "    'mortgage_perc':'mean_%mortage', 'minority_perc':'mean-%minority', 'vacant_perc':'mean_%vacant', 'HRS':'mean_HRS'}\n",
    "holc_ratedagg= holc_rated.groupby('grade').agg({'population_total':'sum', 'total_houses':'sum', \n",
    "    'families':'sum', 'mortgage_perc':'mean', 'minority_perc':'mean', 'vacant_perc':'mean', 'HRS':'mean' }).rename(columns=names)\n",
    "holc_ratedagg"
   ]
  }
 ],
 "metadata": {
  "deepnote": {},
  "deepnote_execution_queue": [],
  "deepnote_full_width": true,
  "deepnote_notebook_id": "e25b87fe0f5e4affaa349b231829cff5",
  "kernelspec": {
   "display_name": "Python 3 (ipykernel)",
   "language": "python",
   "name": "python3"
  },
  "language_info": {
   "codemirror_mode": {
    "name": "ipython",
    "version": 3
   },
   "file_extension": ".py",
   "mimetype": "text/x-python",
   "name": "python",
   "nbconvert_exporter": "python",
   "pygments_lexer": "ipython3",
   "version": "3.9.7"
  }
 },
 "nbformat": 4,
 "nbformat_minor": 4
}
