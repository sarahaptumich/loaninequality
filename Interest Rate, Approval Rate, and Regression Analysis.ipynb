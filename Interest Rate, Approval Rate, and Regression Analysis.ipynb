{
 "cells": [
  {
   "cell_type": "markdown",
   "metadata": {
    "cell_id": "81bb0a63afe44309902b1b2bc5da9d93",
    "deepnote_cell_type": "text-cell-h1",
    "formattedRanges": [],
    "is_collapsed": false,
    "tags": []
   },
   "source": [
    "# Loan Discrimination Exploration"
   ]
  },
  {
   "cell_type": "markdown",
   "metadata": {
    "cell_id": "8581fdf52e2244f68721002f75ea5158",
    "deepnote_app_coordinates": {
     "h": 2,
     "w": 8,
     "x": 0,
     "y": 1
    },
    "deepnote_cell_type": "text-cell-p",
    "formattedRanges": [],
    "is_collapsed": false,
    "tags": []
   },
   "source": [
    "Recently, our team came across an article published by Reveal news, that talks about the presence of discriminations in home mortgage loans in today's society. In their analysis, they were able to determine the likelihood of mortgage denials for different minority groups through the use of binary logistic regression. The results of their research showed large significant discrepancies across 48 different metropolitan areas."
   ]
  },
  {
   "cell_type": "markdown",
   "metadata": {
    "cell_id": "407e638d-9420-4680-8efe-5b4682dedefc",
    "deepnote_app_coordinates": {
     "h": 2,
     "w": 8,
     "x": 0,
     "y": 4
    },
    "deepnote_cell_type": "text-cell-p",
    "formattedRanges": [],
    "is_collapsed": false,
    "tags": []
   },
   "source": [
    "This research was conducted over 5 years ago using 2015 and 2016 mortgage data provided by HMDA. As years past and America approaches a more multiculturally accepting society, our team is curious to see how discrimination affects the mortgage loan market today. At the time of our analysis, it is the year 2022 and the home mortgage data we will be analyzing will cover loans approved and rejected in 2021."
   ]
  },
  {
   "cell_type": "markdown",
   "metadata": {
    "cell_id": "748185ca-7b2b-49f3-b399-16060d71aa46",
    "deepnote_app_coordinates": {
     "h": 2,
     "w": 8,
     "x": 0,
     "y": 7
    },
    "deepnote_cell_type": "text-cell-p",
    "formattedRanges": [],
    "is_collapsed": false,
    "tags": []
   },
   "source": [
    "To be more precise, we would like to know whether discrimination still plays a significant affect on home mortgage loan approvals for different minority groups. In addition to this, to expand upon the work that inspired our analysis, we will also observe discrepancies in interest rates for different minority groups. "
   ]
  },
  {
   "cell_type": "markdown",
   "metadata": {
    "cell_id": "7d3d1cb2-95d2-4473-8693-26f37227898f",
    "deepnote_app_coordinates": {
     "h": 2,
     "w": 8,
     "x": 0,
     "y": 10
    },
    "deepnote_cell_type": "text-cell-p",
    "formattedRanges": [],
    "is_collapsed": false,
    "tags": []
   },
   "source": [
    "To conduct our research, we will initially look at all loans across the United States and do a exploratory analysis on interest rate differences and approval rate differences. "
   ]
  },
  {
   "cell_type": "markdown",
   "metadata": {
    "cell_id": "f5a510b1-d006-4c23-ab54-1558af458324",
    "deepnote_app_coordinates": {
     "h": 2,
     "w": 8,
     "x": 0,
     "y": 10
    },
    "deepnote_cell_type": "text-cell-p",
    "formattedRanges": [],
    "is_collapsed": false,
    "tags": []
   },
   "source": [
    "Later, we will delve deeper into the matter by looking at mortgage loans from Los Angeles, a county historically known for redlining. (Please see other notebook for this part). The datasets we will use is a dataset that includes a collection of 2021 home mortgage loans provided by HMDA and a redlining grade dataset provided by HOLC. And without further ado, let's get started."
   ]
  },
  {
   "cell_type": "markdown",
   "metadata": {
    "cell_id": "7374faae-1bd8-4c97-ac57-a4b626fc5f03",
    "deepnote_app_coordinates": {
     "h": 2,
     "w": 8,
     "x": 0,
     "y": 13
    },
    "deepnote_cell_type": "text-cell-p",
    "formattedRanges": [],
    "is_collapsed": false,
    "tags": []
   },
   "source": [
    "Let's first download and import any dependencies we will use. In addition, some of our datasets are extremely large; therefore, we will utilize PySpark to process the data more efficiently. "
   ]
  },
  {
   "cell_type": "code",
   "execution_count": null,
   "metadata": {
    "cell_id": "19421b7d50d741d0884f2cd0d1c5ebcf",
    "deepnote_app_coordinates": {
     "h": 5,
     "w": 12,
     "x": 0,
     "y": 22
    },
    "deepnote_cell_type": "code",
    "deepnote_to_be_reexecuted": false,
    "execution_millis": 2252,
    "execution_start": 1666042184291,
    "output_cleared": false,
    "source_hash": "8035cb86",
    "tags": []
   },
   "outputs": [],
   "source": [
    "import pandas as pd\n",
    "import numpy as np\n",
    "import altair as alt\n",
    "import pyspark\n",
    "from pyspark.sql import SparkSession \n",
    "from io import StringIO\n",
    "from scipy.stats import ttest_ind\n",
    "from causalinference import CausalModel\n",
    "import statsmodels.formula.api as smf\n",
    "import statsmodels.api as sm\n",
    "alt.themes.enable(\"fivethirtyeight\")"
   ]
  },
  {
   "cell_type": "code",
   "execution_count": null,
   "metadata": {
    "cell_id": "7d894c0ef3f54794a4570e73f8759a47",
    "deepnote_app_coordinates": {
     "h": 5,
     "w": 12,
     "x": 0,
     "y": 28
    },
    "deepnote_cell_type": "code",
    "deepnote_to_be_reexecuted": false,
    "execution_millis": 12562,
    "execution_start": 1666042186011,
    "output_cleared": true,
    "source_hash": "f4604fc5",
    "tags": []
   },
   "outputs": [],
   "source": [
    "#pyspark session\n",
    "\n",
    "spark = SparkSession \\\n",
    "    .builder \\\n",
    "    .master(\"local[*]\") \\\n",
    "    .appName('My First Spark application') \\\n",
    "    .getOrCreate()\n",
    "sc = spark.sparkContext"
   ]
  },
  {
   "cell_type": "markdown",
   "metadata": {
    "cell_id": "25a9b84c-ca4a-4ffb-aa54-3cab966af87f",
    "deepnote_app_coordinates": {
     "h": 2,
     "w": 8,
     "x": 0,
     "y": 34
    },
    "deepnote_cell_type": "text-cell-p",
    "formattedRanges": [],
    "is_collapsed": false,
    "tags": []
   },
   "source": [
    "Our mortgage DataFrame is quite large so we will load it in as a pyspark table. Our HOLC dataset is not as large so lets load in our HOLC dataset in a pandas DataFrame."
   ]
  },
  {
   "cell_type": "code",
   "execution_count": null,
   "metadata": {
    "cell_id": "2e7ecf8f5ccf42cdbcba6d5c015e25eb",
    "deepnote_app_coordinates": {
     "h": 5,
     "w": 12,
     "x": 0,
     "y": 37
    },
    "deepnote_cell_type": "code",
    "deepnote_to_be_reexecuted": false,
    "execution_millis": 16295,
    "execution_start": 1666042198596,
    "output_cleared": false,
    "source_hash": "252ffb74",
    "tags": []
   },
   "outputs": [],
   "source": [
    "df_hm = spark.read.option(\"header\",True) \\\n",
    "     .csv(\"2021_public_lar.csv\")\n",
    "df_hm.show(2,truncate=False)"
   ]
  },
  {
   "cell_type": "code",
   "execution_count": null,
   "metadata": {
    "cell_id": "6b6b6d16f00a4770932c5737393a90cd",
    "deepnote_app_coordinates": {
     "h": 5,
     "w": 12,
     "x": 0,
     "y": 43
    },
    "deepnote_cell_type": "code",
    "deepnote_table_loading": false,
    "deepnote_table_state": {
     "filters": [],
     "pageIndex": 0,
     "pageSize": 10,
     "sortBy": []
    },
    "deepnote_to_be_reexecuted": false,
    "execution_millis": 263,
    "execution_start": 1666042214890,
    "output_cleared": false,
    "source_hash": "de14586a",
    "tags": []
   },
   "outputs": [],
   "source": [
    "holc=pd.read_csv('HOLC_2020_census_tracts.csv')\n",
    "holc.head()"
   ]
  },
  {
   "cell_type": "markdown",
   "metadata": {
    "cell_id": "ca5ba99b88a441d78d22389e1e567667",
    "deepnote_app_coordinates": {
     "h": 2,
     "w": 8,
     "x": 0,
     "y": 49
    },
    "deepnote_cell_type": "text-cell-p",
    "formattedRanges": [],
    "is_collapsed": false,
    "tags": []
   },
   "source": [
    "There are a lot of cleaning we need to do for our mortgage dataset. There are missing values, erroneous values such as negative income, and extreme outliers. In addition, there are many types of loans documented in the dataset and we will need to control for them. For the purpose of our analysis, we will observe loans that are: conventional loans, single family homes, loan applications that are not incomplete or self-forfeited, for personal use, and more. Please see our report for more details. "
   ]
  },
  {
   "cell_type": "code",
   "execution_count": null,
   "metadata": {
    "cell_id": "130b415f67d746ac873fe9f1ea13c6ae",
    "deepnote_cell_type": "code",
    "deepnote_to_be_reexecuted": false,
    "execution_millis": 256,
    "execution_start": 1666042215120,
    "source_hash": "e9cd5c16",
    "tags": []
   },
   "outputs": [],
   "source": [
    "df_hm.createOrReplaceTempView('N_df_view')"
   ]
  },
  {
   "cell_type": "code",
   "execution_count": null,
   "metadata": {
    "cell_id": "3b0d0152aa7c4fa4a722b68be32e885c",
    "deepnote_cell_type": "code",
    "deepnote_to_be_reexecuted": false,
    "execution_millis": 0,
    "execution_start": 1666042215383,
    "source_hash": "15d22729",
    "tags": []
   },
   "outputs": [],
   "source": [
    "def cut_view_red():\n",
    "    return spark.sql(\"\"\"\\\n",
    "        SELECT *\n",
    "        FROM N_df_view\n",
    "        WHERE derived_loan_product_type = \"Conventional:First Lien\" AND\n",
    "        derived_dwelling_category = 'Single Family (1-4 Units):Site-Built' AND\n",
    "        conforming_loan_limit = \"C\" AND\n",
    "        action_taken != 4 AND\n",
    "        action_taken != 5 AND\n",
    "        loan_type = 1 AND\n",
    "        loan_purpose = 1 AND\n",
    "        lien_status = 1 AND\n",
    "        reverse_mortgage = 2 AND\n",
    "        open_end_line_of_credit = 2 AND\n",
    "        business_or_commercial_purpose = 2 AND\n",
    "        negative_amortization = 2 AND\n",
    "        occupancy_type = 1 AND\n",
    "        total_units = 1 AND\n",
    "        balloon_payment = 2\n",
    "        \"\"\")"
   ]
  },
  {
   "cell_type": "code",
   "execution_count": null,
   "metadata": {
    "cell_id": "654192f137a74f7e92609e69a348642e",
    "deepnote_cell_type": "code",
    "deepnote_to_be_reexecuted": false,
    "execution_millis": 725,
    "execution_start": 1666042215424,
    "source_hash": "446c6b94",
    "tags": []
   },
   "outputs": [],
   "source": [
    "df_hm_cleaned = cut_view_red()"
   ]
  },
  {
   "cell_type": "code",
   "execution_count": null,
   "metadata": {
    "cell_id": "9c44d5775e4e44738abff33c90a7224d",
    "deepnote_app_coordinates": {
     "h": 5,
     "w": 12,
     "x": 0,
     "y": 52
    },
    "deepnote_cell_type": "code",
    "deepnote_to_be_reexecuted": false,
    "execution_millis": 204,
    "execution_start": 1666042216150,
    "output_cleared": false,
    "source_hash": "5626662f",
    "tags": []
   },
   "outputs": [],
   "source": [
    "# Take only features I need\n",
    "df_hm_cleaned = df_hm_cleaned.select('county_code',\n",
    "                            'derived_ethnicity', \n",
    "                            'derived_race', \n",
    "                            'derived_sex', \n",
    "                            'action_taken', \n",
    "                            'loan_purpose', \n",
    "                            'business_or_commercial_purpose',\n",
    "                            'derived_dwelling_category',\n",
    "                            'loan_amount',\n",
    "                            'occupancy_type',\n",
    "                            'combined_loan_to_value_ratio',\n",
    "                            'interest_rate', 'property_value',\n",
    "                            'income',\n",
    "                            'debt_to_income_ratio',\n",
    "                            'denial_reason_1',\n",
    "                            'loan_term',\n",
    "                            'rate_spread')"
   ]
  },
  {
   "cell_type": "markdown",
   "metadata": {
    "cell_id": "fd8dcd40df87417cbf90846dc65e9adf",
    "deepnote_app_coordinates": {
     "h": 2,
     "w": 8,
     "x": 0,
     "y": 64
    },
    "deepnote_cell_type": "text-cell-p",
    "formattedRanges": [],
    "is_collapsed": false,
    "tags": []
   },
   "source": [
    "Next, we will split our dataset by different ethnicity groups so that we may load the data as pandas DataFrames. This makes some of our computations more efficient and it makes comparing select groups easier. To make our lives even easier, we will also merge the derived ethnicity and derived race column by moving 'Hispanic and Latino' to race so that all minority groups are recorded in the same column. "
   ]
  },
  {
   "cell_type": "code",
   "execution_count": null,
   "metadata": {
    "cell_id": "14d7987416f041fdb1f60cce84dc0d7e",
    "deepnote_app_coordinates": {
     "h": 5,
     "w": 12,
     "x": 0,
     "y": 67
    },
    "deepnote_cell_type": "code",
    "deepnote_to_be_reexecuted": false,
    "execution_millis": 103854,
    "execution_start": 1666042216356,
    "output_cleared": false,
    "source_hash": "ee25f326",
    "tags": []
   },
   "outputs": [],
   "source": [
    "# Split Dataframe by race and ethinicity\n",
    "df_hm_white = df_hm_cleaned.select('*').filter(df_hm_cleaned.derived_race =='White').toPandas()\n",
    "df_hm_asian = df_hm_cleaned.select('*').filter(df_hm_cleaned.derived_race =='Asian').toPandas()\n"
   ]
  },
  {
   "cell_type": "code",
   "execution_count": null,
   "metadata": {
    "cell_id": "0d898dd7f07b4740a7428b0cb991d509",
    "deepnote_cell_type": "code",
    "deepnote_to_be_reexecuted": false,
    "execution_millis": 73187,
    "execution_start": 1666042320211,
    "source_hash": "bbf83e0f",
    "tags": []
   },
   "outputs": [],
   "source": [
    "df_hm_black = df_hm_cleaned.select('*').filter(df_hm_cleaned.derived_race =='Black or African American').toPandas()\n",
    "df_hm_hispanic = df_hm_cleaned.select('*').filter(df_hm_cleaned.derived_ethnicity =='Hispanic or Latino').toPandas()"
   ]
  },
  {
   "cell_type": "code",
   "execution_count": null,
   "metadata": {
    "cell_id": "2d557adcbb7c44b98fd57ef275463b61",
    "deepnote_app_coordinates": {
     "h": 5,
     "w": 12,
     "x": 0,
     "y": 73
    },
    "deepnote_cell_type": "code",
    "deepnote_to_be_reexecuted": false,
    "execution_millis": 44,
    "execution_start": 1666042393407,
    "output_cleared": true,
    "source_hash": "b2a0b413",
    "tags": []
   },
   "outputs": [],
   "source": [
    "# Lets merge ethnicity and race by moving hispanic and latino over to race.\n",
    "df_hm_hispanic.loc[df_hm_hispanic.derived_ethnicity == 'Hispanic or Latino', 'derived_race'] = 'Hispanic or Latino'\n"
   ]
  },
  {
   "cell_type": "markdown",
   "metadata": {
    "cell_id": "43d1f80edfa24760b61c5b2686998ae8",
    "deepnote_app_coordinates": {
     "h": 5,
     "w": 12,
     "x": 0,
     "y": 79
    },
    "deepnote_cell_type": "text-cell-h3",
    "formattedRanges": [],
    "is_collapsed": false,
    "tags": []
   },
   "source": [
    "### Lets look at Approval Rates by Race"
   ]
  },
  {
   "cell_type": "code",
   "execution_count": null,
   "metadata": {
    "cell_id": "4b8a1dc8065e47f9ad8b284b1576a173",
    "deepnote_app_coordinates": {
     "h": 5,
     "w": 12,
     "x": 0,
     "y": 85
    },
    "deepnote_cell_type": "code",
    "deepnote_to_be_reexecuted": false,
    "execution_millis": 1624,
    "execution_start": 1666042393451,
    "output_cleared": true,
    "source_hash": "9673326b",
    "tags": []
   },
   "outputs": [],
   "source": [
    "# Compute approval Rates\n",
    "white_approval_rate = len(df_hm_white[df_hm_white.action_taken == '1'])/len(df_hm_white)\n",
    "asian_approval_rate = len(df_hm_asian[df_hm_asian.action_taken == '1'])/len(df_hm_asian)\n",
    "black_approval_rate = len(df_hm_black[df_hm_black.action_taken == '1'])/len(df_hm_black)\n",
    "hispanic_approval_rate = len(df_hm_hispanic[df_hm_hispanic.action_taken == '1'])/len(df_hm_hispanic)"
   ]
  },
  {
   "cell_type": "code",
   "execution_count": null,
   "metadata": {
    "cell_id": "42ff9071873a4beb81517b704c462a8e",
    "deepnote_app_coordinates": {
     "h": 5,
     "w": 12,
     "x": 0,
     "y": 91
    },
    "deepnote_cell_type": "code",
    "deepnote_to_be_reexecuted": false,
    "execution_millis": 8,
    "execution_start": 1666042395075,
    "output_cleared": false,
    "source_hash": "22965c8b",
    "tags": []
   },
   "outputs": [],
   "source": [
    "print(white_approval_rate, asian_approval_rate, black_approval_rate, hispanic_approval_rate)"
   ]
  },
  {
   "cell_type": "code",
   "execution_count": null,
   "metadata": {
    "cell_id": "ac48549c40ac40b6bdd1fa7c7af2f0f9",
    "deepnote_app_coordinates": {
     "h": 5,
     "w": 12,
     "x": 0,
     "y": 97
    },
    "deepnote_cell_type": "code",
    "deepnote_to_be_reexecuted": false,
    "execution_millis": 0,
    "execution_start": 1666042395076,
    "output_cleared": true,
    "source_hash": "3bb39fc3",
    "tags": []
   },
   "outputs": [],
   "source": [
    "# Create approval dataframe to plot\n",
    "approval_df = pd.DataFrame({'ethnicity':['white','asian','black','hispanic'],\\\n",
    "     'approval_rate':[white_approval_rate, asian_approval_rate, black_approval_rate, hispanic_approval_rate]})\n",
    "approval_df = approval_df.sort_values(by= 'approval_rate', ascending= False)"
   ]
  },
  {
   "cell_type": "code",
   "execution_count": null,
   "metadata": {
    "cell_id": "410cea35bfd3497bb82ae4c78a94a167",
    "deepnote_app_coordinates": {
     "h": 5,
     "w": 12,
     "x": 0,
     "y": 103
    },
    "deepnote_cell_type": "code",
    "deepnote_to_be_reexecuted": false,
    "execution_millis": 119,
    "execution_start": 1666042395083,
    "output_cleared": false,
    "source_hash": "67938773",
    "tags": []
   },
   "outputs": [],
   "source": [
    "# Plot approval rates\n",
    "approval_bar = alt.Chart(approval_df).mark_bar(size = 50).encode(\n",
    "    x= alt.X('ethnicity', sort= approval_df.approval_rate.values, title=\"Race\"),\n",
    "    y= alt.Y('approval_rate', scale= alt.Scale(domain=[0,1]), axis=alt.Axis(format='%'))\n",
    ").properties(width=300,\n",
    "    height=300,\n",
    "    title=alt.TitleParams(\n",
    "            text='Approval Rate'))\n",
    "\n",
    "text = approval_bar.mark_text(\n",
    "    align='left',\n",
    "    baseline='middle',\n",
    "    dy=-10  # Nudges text to right so it doesn't appear on top of the bar\n",
    ").encode(\n",
    "    text= alt.Text('approval_rate:Q', format='.0%')\n",
    ")\n",
    "\n",
    "bar=approval_bar+text\n",
    "bar.configure_title(fontSize=14).configure(background='#FFFFFF').configure_axis(\n",
    "    grid=False)"
   ]
  },
  {
   "cell_type": "markdown",
   "metadata": {
    "cell_id": "cff484b6fbd3452d885140c98313b600",
    "deepnote_app_coordinates": {
     "h": 2,
     "w": 8,
     "x": 0,
     "y": 109
    },
    "deepnote_cell_type": "text-cell-p",
    "formattedRanges": [],
    "is_collapsed": false,
    "tags": []
   },
   "source": [
    "We can see some differences between groups. Asian group has the highest, sitting at around 89% approval rate. White group follows closely with a similar number. Hispanic group has a slightly lower approval rate of about 82% and the Black group comes last with the lowest rate of about 78%, 10% lower than the White group. 10% is quite a large difference; however, we can not conclude that the difference is attributable to race, that would require further analysis. We will come back to delve deeper into analyzing approval rates but for the time being, lets continue our exploratory analysis."
   ]
  },
  {
   "cell_type": "markdown",
   "metadata": {
    "cell_id": "56aa325286a345c289a755d6e4e6d02f",
    "deepnote_app_coordinates": {
     "h": 5,
     "w": 12,
     "x": 0,
     "y": 112
    },
    "deepnote_cell_type": "text-cell-h3",
    "formattedRanges": [],
    "is_collapsed": false,
    "tags": []
   },
   "source": [
    "### Lets look at the distribution of debt to income ratio for all approved loans"
   ]
  },
  {
   "cell_type": "markdown",
   "metadata": {
    "cell_id": "7cb200ca0aa846e3878c8545fbd8b3a6",
    "deepnote_app_coordinates": {
     "h": 2,
     "w": 8,
     "x": 0,
     "y": 118
    },
    "deepnote_cell_type": "text-cell-p",
    "formattedRanges": [],
    "is_collapsed": false,
    "tags": []
   },
   "source": [
    "As mentioned previously, our dataset is full of errors. To filter out some of these errors, we filtered income to be over $20,000 and under $500,000. This effectively removes extreme outliers and enacts some form of control for our income variable. In addition to income, we discovered outliers where a loan had 100% interest rate and whether this was due to error or not, we decided to filtered interest rate to be any number above 0 and less than 10%.  Similarly to our method of filtering income, this effectively removes extreme outliers and contributes some control over our interest variable."
   ]
  },
  {
   "cell_type": "code",
   "execution_count": null,
   "metadata": {
    "cell_id": "78f6ed5e32064a199285c639ece43906",
    "deepnote_app_coordinates": {
     "h": 5,
     "w": 12,
     "x": 0,
     "y": 121
    },
    "deepnote_cell_type": "code",
    "deepnote_to_be_reexecuted": false,
    "execution_millis": 11622,
    "execution_start": 1666042395193,
    "output_cleared": true,
    "source_hash": "63ca0c22",
    "tags": []
   },
   "outputs": [],
   "source": [
    "# Drop missing values\n",
    "df_hm_white= df_hm_white.replace({'NA':np.nan, 'Exempt':np.nan}).dropna(\n",
    "    subset=['interest_rate','debt_to_income_ratio','income','rate_spread','combined_loan_to_value_ratio'])\n",
    "df_hm_asian = df_hm_asian.replace({'NA':np.nan, 'Exempt':np.nan}).dropna(\n",
    "    subset=['interest_rate','debt_to_income_ratio','income','rate_spread','combined_loan_to_value_ratio'])\n",
    "df_hm_black = df_hm_black.replace({'NA':np.nan, 'Exempt':np.nan}).dropna(\n",
    "    subset=['interest_rate','debt_to_income_ratio','income','rate_spread','combined_loan_to_value_ratio'])\n",
    "df_hm_hispanic = df_hm_hispanic.replace({'NA':np.nan, 'Exempt':np.nan}).dropna(\n",
    "    subset=['interest_rate','debt_to_income_ratio','income','rate_spread','combined_loan_to_value_ratio'])\n",
    "\n",
    "# Make separate Dataframe for each group where it only contains approved loans.\n",
    "df_white_approve = df_hm_white[df_hm_white.action_taken =='1']\n",
    "df_asian_approve = df_hm_asian[df_hm_asian.action_taken =='1']\n",
    "df_black_approve = df_hm_black[df_hm_black.action_taken =='1']\n",
    "df_hispanic_approve = df_hm_hispanic[df_hm_hispanic.action_taken =='1']\n",
    "\n",
    "# Convert data type for some of our variables.\n",
    "df_white_approve = df_white_approve.astype({'interest_rate':'float', 'income':'float', \n",
    "    'loan_amount':'float','rate_spread':'float','combined_loan_to_value_ratio':'float'})\n",
    "df_asian_approve = df_asian_approve.astype({'interest_rate':'float', 'income':'float', \n",
    "    'loan_amount':'float','rate_spread':'float','combined_loan_to_value_ratio':'float'})\n",
    "df_hispanic_approve = df_hispanic_approve.astype({'interest_rate':'float', 'income':'float', \n",
    "    'loan_amount':'float','rate_spread':'float','combined_loan_to_value_ratio':'float'})\n",
    "df_black_approve = df_black_approve.astype({'interest_rate':'float', 'income':'float', \n",
    "    'loan_amount':'float','rate_spread':'float','combined_loan_to_value_ratio':'float'})\n",
    "\n",
    "# Lets filter out extreme outliers.\n",
    "df_white_approve= df_white_approve[(df_white_approve['interest_rate']>0) & \n",
    "    (df_white_approve['interest_rate']<=10) &\n",
    "    (df_white_approve['income']>20) &\n",
    "    (df_white_approve['income']<500)]\n",
    "df_asian_approve= df_asian_approve[(df_asian_approve['interest_rate']>0) & \n",
    "    (df_asian_approve['interest_rate']<=10) &\n",
    "    (df_asian_approve['income']>20) &\n",
    "    (df_asian_approve['income']<500)]\n",
    "df_hispanic_approve= df_hispanic_approve[(df_hispanic_approve['interest_rate']>0) & \n",
    "    (df_hispanic_approve['interest_rate']<=10) &\n",
    "    (df_hispanic_approve['income']>20) &\n",
    "    (df_hispanic_approve['income']<500)]\n",
    "df_black_approve= df_black_approve[(df_black_approve['interest_rate']>0) & \n",
    "    (df_black_approve['interest_rate']<=10) &\n",
    "    (df_black_approve['income']>20) &\n",
    "    (df_black_approve['income']<500)]\n"
   ]
  },
  {
   "cell_type": "markdown",
   "metadata": {
    "cell_id": "36d3136ece82426c81f89e81edd14c7a",
    "deepnote_app_coordinates": {
     "h": 2,
     "w": 8,
     "x": 0,
     "y": 127
    },
    "deepnote_cell_type": "text-cell-p",
    "formattedRanges": [],
    "is_collapsed": false,
    "tags": []
   },
   "source": [
    "Debt to income ratio can be strong control variable for our group analysis. HMDA uses applicant's monthly debt payments and monthly income to compute the ratio, therefore it can be an accurate measure of applicant's financial stability. Unfortunately, due to the way debt to income ratio was collected (a mix of percentage bins and individual percentages), we found that this important variable would not be usable in any regression we conduct. We can however, aggregate the ratio bins in a more complete manner and observe the distribution of debt to income ratios for all approved loans for each race groups. To do this we lumped the values of recorded by intervals of 10% and aggregate the count."
   ]
  },
  {
   "cell_type": "code",
   "execution_count": null,
   "metadata": {
    "allow_embed": false,
    "cell_id": "4d6152e7ea5547b48b9042a4af7fc700",
    "deepnote_app_coordinates": {
     "h": 5,
     "w": 12,
     "x": 0,
     "y": 130
    },
    "deepnote_cell_type": "code",
    "deepnote_to_be_reexecuted": false,
    "execution_millis": 0,
    "execution_start": 1666042406815,
    "output_cleared": false,
    "source_hash": "f4b975e4",
    "tags": []
   },
   "outputs": [],
   "source": [
    "# Create debt to income bins by intervals of 10%\n",
    "def bins(x):\n",
    "    if x in ['30%-<36%','36', '37', '38', '39']:\n",
    "        return '30%-<40%'\n",
    "    elif x in ['40', '41', '42', '43', '44', '45', '46', '47', '48', '49']:\n",
    "        return '40%-<50%'\n",
    "    elif x in ['50%-60%', '>60%']:\n",
    "        return '>50%'\n",
    "    else:\n",
    "        return x\n",
    "\n",
    "# Create plots of debt to income ratio distribution for approved loans\n",
    "def debt_to_income_groupby_df(race = 'white'):\n",
    "    # The race parameter should be a string of one of the following: 'white', 'asian', 'hispanic', 'black'\n",
    "\n",
    "    if race == 'black':\n",
    "        df = df_black_approve\n",
    "        title = 'Black'\n",
    "    elif race == 'asian':\n",
    "        df = df_asian_approve\n",
    "        title = 'Asian'\n",
    "    elif race == 'hispanic':\n",
    "        df = df_hispanic_approve\n",
    "        title = 'Hispanic'\n",
    "    else:\n",
    "        df = df_white_approve\n",
    "        title = 'White'\n",
    "\n",
    "    # Create Bins for our race group\n",
    "    df['debt_to_income_ratio'] = df.debt_to_income_ratio.transform(lambda x: bins(x))\n",
    "    bin_ct_df= df.groupby('debt_to_income_ratio').agg({'debt_to_income_ratio':'count'})\n",
    "    bin_ct_df = bin_ct_df.transform(lambda x: round(x/sum(bin_ct_df.debt_to_income_ratio),4))\n",
    "    bin_ct_df = bin_ct_df.rename(columns={'debt_to_income_ratio':'percentage'}).reset_index().iloc[:6]\n",
    "    bin_ct_df['race'] = race\n",
    "    return bin_ct_df\n"
   ]
  },
  {
   "cell_type": "code",
   "execution_count": null,
   "metadata": {
    "cell_id": "0f9c661b77b54f0297e1baa278996ba2",
    "deepnote_cell_type": "code",
    "deepnote_to_be_reexecuted": false,
    "execution_millis": 1,
    "execution_start": 1666042406815,
    "source_hash": "792209f3",
    "tags": []
   },
   "outputs": [],
   "source": [
    "def d2i_comparison(minority_group, baseline='white'):\n",
    "\n",
    "    df = debt_to_income_groupby_df(race = baseline).append(\n",
    "        debt_to_income_groupby_df(race = minority_group))\n",
    "\n",
    "    title = minority_group.capitalize()+' vs '+baseline.capitalize()\n",
    "\n",
    "    chart = alt.Chart(df).mark_bar().encode(\n",
    "        x= alt.X('race:N', axis=None),\n",
    "        y= alt.Y('percentage', title='Percentage', axis=alt.Axis(tickCount=5, offset=10),\n",
    "                 scale=alt.Scale(domain=[0,.5])),\n",
    "        color= 'race',\n",
    "        column= alt.Column(\n",
    "            'debt_to_income_ratio:O', \n",
    "            sort=['<20%','20%-<30%','30%-<40%','40%-<50%','>50%'],\n",
    "            header= alt.Header(title='Distribution of Debt to Income Ratio'))\n",
    "    ).configure(background='#FFFFFF').configure_axis(\n",
    "        grid=False\n",
    "    ).configure_view(\n",
    "        strokeWidth=0, \n",
    "        strokeOpacity=0\n",
    "    ).configure_header(\n",
    "        labelOrient='bottom'\n",
    "    ).properties(height= 200, width=50, title=title\n",
    "    ).configure_title(fontSize=20, offset=5, orient='top', anchor='middle'\n",
    "    )\n",
    "\n",
    "    return chart"
   ]
  },
  {
   "cell_type": "code",
   "execution_count": null,
   "metadata": {
    "cell_id": "1d72bb2bb26544009f5cc39eb4a805c6",
    "deepnote_cell_type": "code",
    "deepnote_to_be_reexecuted": false,
    "execution_millis": 734,
    "execution_start": 1666042406890,
    "source_hash": "2c1e94e8",
    "tags": []
   },
   "outputs": [],
   "source": [
    "d2i_comparison('asian', baseline='white')"
   ]
  },
  {
   "cell_type": "code",
   "execution_count": null,
   "metadata": {
    "cell_id": "5336ecc748b448978bd9ab3029f94b2e",
    "deepnote_cell_type": "code",
    "deepnote_to_be_reexecuted": false,
    "execution_millis": 1427,
    "execution_start": 1666042407626,
    "source_hash": "72f3202b",
    "tags": []
   },
   "outputs": [],
   "source": [
    "d2i_comparison('hispanic', baseline='white')"
   ]
  },
  {
   "cell_type": "code",
   "execution_count": null,
   "metadata": {
    "cell_id": "fe21cbfbcb8444768e7e7b12da65e4b6",
    "deepnote_cell_type": "code",
    "deepnote_to_be_reexecuted": false,
    "execution_millis": 1058,
    "execution_start": 1666042408158,
    "source_hash": "686dd8d8",
    "tags": []
   },
   "outputs": [],
   "source": [
    "d2i_comparison('black', baseline='white')"
   ]
  },
  {
   "cell_type": "markdown",
   "metadata": {
    "cell_id": "c9ed54e9287d442ca26c13da37531282",
    "deepnote_app_coordinates": {
     "h": 2,
     "w": 8,
     "x": 0,
     "y": 142
    },
    "deepnote_cell_type": "text-cell-p",
    "formattedRanges": [],
    "is_collapsed": false,
    "tags": []
   },
   "source": [
    "When we compare the three minority groups (Asian, Hispanic, and Black) to White, we can see that the minority groups have higher frequency in the 40-50% debt to income ratio bins than the White group. Debt to income ratio is a good measure of financial stability. A high debt to income ratio means more debt to be paid or less income, representing higher risk. A low debt to income ratio means less debt to be paid or more income, representing lower risk. Because minority groups have higher distribution in the higher debt to ratio bins compared to the white group, our results suggest that loan companies are accepting higher risk by approving loans to these minority groups. This can potentially explain the discrepancy in loan approval rates for our groups. Next we will dive into interest rates."
   ]
  },
  {
   "cell_type": "markdown",
   "metadata": {
    "cell_id": "c37b8cdbf8844a35944256a171f04ed0",
    "deepnote_app_coordinates": {
     "h": 5,
     "w": 12,
     "x": 0,
     "y": 145
    },
    "deepnote_cell_type": "text-cell-h3",
    "formattedRanges": [],
    "is_collapsed": false,
    "tags": []
   },
   "source": [
    "### Lets run some hypothesis test to see if we have differences."
   ]
  },
  {
   "cell_type": "markdown",
   "metadata": {
    "cell_id": "3f35ae0aa8024568bdf632771bbe9d6f",
    "deepnote_app_coordinates": {
     "h": 2,
     "w": 8,
     "x": 0,
     "y": 151
    },
    "deepnote_cell_type": "text-cell-p",
    "formattedRanges": [],
    "is_collapsed": false,
    "tags": []
   },
   "source": [
    "First, we will run a simple hypothesis test to see the differences in interest rates for our groups."
   ]
  },
  {
   "cell_type": "code",
   "execution_count": null,
   "metadata": {
    "cell_id": "5a37aa953f6c4baab8fdca7790bf2756",
    "deepnote_app_coordinates": {
     "h": 5,
     "w": 12,
     "x": 0,
     "y": 154
    },
    "deepnote_cell_type": "code",
    "deepnote_to_be_reexecuted": false,
    "execution_millis": 352,
    "execution_start": 1666042408864,
    "output_cleared": false,
    "source_hash": "8afe651b",
    "tags": []
   },
   "outputs": [],
   "source": [
    "white_interest = df_white_approve.interest_rate\n",
    "asian_interest = df_asian_approve.interest_rate\n",
    "hispanic_interest = df_hispanic_approve.interest_rate\n",
    "black_interest = df_black_approve.interest_rate\n",
    "\n",
    "white_interest.mean(), asian_interest.mean(), hispanic_interest.mean(), black_interest.mean()"
   ]
  },
  {
   "cell_type": "code",
   "execution_count": null,
   "metadata": {
    "cell_id": "27a405995a7d4cfaa43b7f0c2d062881",
    "deepnote_app_coordinates": {
     "h": 5,
     "w": 12,
     "x": 0,
     "y": 160
    },
    "deepnote_cell_type": "code",
    "deepnote_to_be_reexecuted": false,
    "execution_millis": 26,
    "execution_start": 1666042408892,
    "output_cleared": true,
    "source_hash": "6f573fca",
    "tags": []
   },
   "outputs": [],
   "source": [
    "def t_test(df1, df2, variable= 'interest_rate', tails= 'two-sided'):\n",
    "    # takes 2 dataframe from different groups.\n",
    "    # variable of interest as a string, \n",
    "    # tails for the test as a string.\n",
    "    df1 = df1[variable]\n",
    "    df2 = df2[variable]\n",
    "    print(df1.mean(), df2.mean())\n",
    "    return ttest_ind(df1,df2, alternative= tails)"
   ]
  },
  {
   "cell_type": "code",
   "execution_count": null,
   "metadata": {
    "cell_id": "e675873cd0584a8db7b093c758ad5a4a",
    "deepnote_app_coordinates": {
     "h": 5,
     "w": 12,
     "x": 0,
     "y": 166
    },
    "deepnote_cell_type": "code",
    "deepnote_to_be_reexecuted": false,
    "execution_millis": 295,
    "execution_start": 1666042408921,
    "output_cleared": false,
    "source_hash": "7be5989a",
    "tags": []
   },
   "outputs": [],
   "source": [
    "t_test(df_white_approve, df_black_approve, 'interest_rate')"
   ]
  },
  {
   "cell_type": "code",
   "execution_count": null,
   "metadata": {
    "cell_id": "01208c317b9e4c3e817e7d789b7c2088",
    "deepnote_app_coordinates": {
     "h": 5,
     "w": 12,
     "x": 0,
     "y": 172
    },
    "deepnote_cell_type": "code",
    "deepnote_to_be_reexecuted": false,
    "execution_millis": 236,
    "execution_start": 1666042408981,
    "source_hash": "34f95607",
    "tags": []
   },
   "outputs": [],
   "source": [
    "t_test(df_white_approve, df_hispanic_approve, 'interest_rate')"
   ]
  },
  {
   "cell_type": "code",
   "execution_count": null,
   "metadata": {
    "cell_id": "e0588503d6bc44b098f98230f848bf20",
    "deepnote_app_coordinates": {
     "h": 5,
     "w": 12,
     "x": 0,
     "y": 178
    },
    "deepnote_cell_type": "code",
    "deepnote_to_be_reexecuted": false,
    "execution_millis": 200,
    "execution_start": 1666042409017,
    "source_hash": "913c077f",
    "tags": []
   },
   "outputs": [],
   "source": [
    "t_test(df_white_approve, df_asian_approve, 'interest_rate')"
   ]
  },
  {
   "cell_type": "markdown",
   "metadata": {
    "cell_id": "300b6dc6143d4143927851bd0c397a0c",
    "deepnote_app_coordinates": {
     "h": 2,
     "w": 8,
     "x": 0,
     "y": 184
    },
    "deepnote_cell_type": "text-cell-p",
    "formattedRanges": [],
    "is_collapsed": false,
    "tags": []
   },
   "source": [
    "In our hypothesis test, we tested to see if the mean interest rates of our minority groups were the same as the white group. Our results show that the average interest rate for Black was 0.08% higher than White and the average interest rate for Hispanic was 0.1% higher than white. To our surprise, Asian had 0.08% lower average interest rate than White, signifying that they get a more favorable rate than White. Although these differences may not seem like much, when you consider the fact that the average interest rate is around 3 to 3.25% for loans that amount to hundreds of thousands of dollars, 0.1% can be quite significant. All of our hypothesis test were significant at the 0.05 level, which comes to no surprise due to the massive size of our sample size."
   ]
  },
  {
   "cell_type": "markdown",
   "metadata": {
    "cell_id": "25e684151e974a6f91f39925643117d1",
    "deepnote_app_coordinates": {
     "h": 5,
     "w": 12,
     "x": 0,
     "y": 187
    },
    "deepnote_cell_type": "text-cell-h3",
    "formattedRanges": [],
    "is_collapsed": false,
    "tags": []
   },
   "source": [
    "### Regression"
   ]
  },
  {
   "cell_type": "markdown",
   "metadata": {
    "cell_id": "4865957db2f54480b01aced46540750e",
    "deepnote_app_coordinates": {
     "h": 2,
     "w": 8,
     "x": 0,
     "y": 193
    },
    "deepnote_cell_type": "text-cell-p",
    "formattedRanges": [],
    "is_collapsed": false,
    "tags": []
   },
   "source": [
    "We will take 5000 random samples from each group. We will also compute dummy variables for each of our minority groups where value of 1 means the applicant belongs to the group and 0 means they are not. In addition, we will compute the log of some of our variables. Lastly, due to the debt to income ratio recorded by HMDA being unusable, we will also compute our own debt to loan ratio by taking the loan amount divided by the applicant's yearly income. "
   ]
  },
  {
   "cell_type": "code",
   "execution_count": null,
   "metadata": {
    "cell_id": "4d2f92f323684ed499e2d4860adf8c20",
    "deepnote_app_coordinates": {
     "h": 5,
     "w": 12,
     "x": 0,
     "y": 196
    },
    "deepnote_cell_type": "code",
    "deepnote_to_be_reexecuted": false,
    "execution_millis": 615,
    "execution_start": 1666042409044,
    "output_cleared": false,
    "source_hash": "11e7159",
    "tags": []
   },
   "outputs": [],
   "source": [
    "# Take 5000 random samples from each group\n",
    "df_white_samp = df_white_approve.sample(5000)\n",
    "df_asian_samp = df_asian_approve.sample(5000)\n",
    "df_hispanic_samp = df_hispanic_approve.sample(5000)\n",
    "df_black_samp = df_black_approve.sample(5000)\n",
    "\n",
    "# Merge the samples into one dataset\n",
    "regression_df = df_white_samp.append(df_asian_samp).append(df_hispanic_samp).append(df_black_samp)\n",
    "\n",
    "# Take the fields we need\n",
    "regression_df= regression_df[[\n",
    "                            'derived_ethnicity', \n",
    "                            'derived_race',\n",
    "                            'loan_amount', \n",
    "                            'interest_rate', \n",
    "                            'income', \n",
    "                            'debt_to_income_ratio',\n",
    "                            'combined_loan_to_value_ratio',\n",
    "                            'rate_spread']]"
   ]
  },
  {
   "cell_type": "code",
   "execution_count": null,
   "metadata": {
    "cell_id": "de0ad53ded9c4aacbe38feb22ca9b343",
    "deepnote_app_coordinates": {
     "h": 5,
     "w": 12,
     "x": 0,
     "y": 202
    },
    "deepnote_cell_type": "code",
    "deepnote_to_be_reexecuted": false,
    "execution_millis": 52,
    "execution_start": 1666042409610,
    "output_cleared": true,
    "source_hash": "bd578c58",
    "tags": []
   },
   "outputs": [],
   "source": [
    "# Create dummy variables\n",
    "regression_df['white'] = np.where(regression_df.derived_race == 'White', 1, 0)\n",
    "regression_df['asian'] = np.where(regression_df.derived_race == 'Asian', 1, 0)\n",
    "regression_df['black'] = np.where(regression_df.derived_race == 'Black or African American', 1, 0)\n",
    "regression_df['hispanic'] = np.where(regression_df.derived_race == 'Hispanic or Latino', 1, 0)\n",
    "\n",
    "# Compute our own debt to income ratio\n",
    "regression_df['debt_to_income'] = round(regression_df['loan_amount'] / (regression_df['income']),2)\n",
    "\n",
    "#compute natural log of interest_rate, income, and loan amount\n",
    "regression_df['ln_interest_rate'] = round(np.log(regression_df.interest_rate),3)\n",
    "regression_df['ln_income'] = round(np.log(regression_df.income),3)\n",
    "regression_df['ln_loan_amount'] = round(np.log(regression_df.loan_amount),3)"
   ]
  },
  {
   "cell_type": "code",
   "execution_count": null,
   "metadata": {
    "cell_id": "3586578b9aa741a5800f8d9927fcac6f",
    "deepnote_app_coordinates": {
     "h": 5,
     "w": 12,
     "x": 0,
     "y": 214
    },
    "deepnote_cell_type": "code",
    "deepnote_to_be_reexecuted": false,
    "execution_millis": 0,
    "execution_start": 1666042409662,
    "output_cleared": false,
    "source_hash": "1ca5c161",
    "tags": []
   },
   "outputs": [],
   "source": [
    "def get_ols_regression(minority_group, filter_other_race = False, percent_change= False):\n",
    "    # minority_group is the treatment variable, or the race of interest. Input as a string\n",
    "    # minority_group should be one of the following: 'asian', 'hispanic', 'black'\n",
    "\n",
    "    if percent_change == True:\n",
    "        formula = 'ln_interest_rate~'+minority_group+'+debt_to_income'\n",
    "    else:\n",
    "        formula = 'interest_rate~'+minority_group+'+debt_to_income'\n",
    "\n",
    "    if filter_other_race == True:\n",
    "        nontreatment = regression_df[regression_df.white == 1]  \n",
    "        treatment = regression_df[regression_df[minority_group]==1]\n",
    "        df = nontreatment.append(treatment)\n",
    "    else:\n",
    "        df = regression_df\n",
    "\n",
    "    reg = smf.ols(formula = formula, data = df).fit()\n",
    "    reg = reg.get_robustcov_results(cov_type= 'HC1')\n",
    "    \n",
    "    return reg.summary()"
   ]
  },
  {
   "cell_type": "code",
   "execution_count": null,
   "metadata": {
    "cell_id": "f66720a2f9674e2bac124b3c320a2bf9",
    "deepnote_app_coordinates": {
     "h": 5,
     "w": 12,
     "x": 0,
     "y": 220
    },
    "deepnote_cell_type": "code",
    "deepnote_to_be_reexecuted": false,
    "execution_millis": 321,
    "execution_start": 1666042409666,
    "output_cleared": false,
    "source_hash": "5a855893",
    "tags": []
   },
   "outputs": [],
   "source": [
    "get_ols_regression(minority_group='black', filter_other_race = True, percent_change = False)"
   ]
  },
  {
   "cell_type": "markdown",
   "metadata": {
    "cell_id": "5576651b9dfc4ed596250e15aa3dcffd",
    "deepnote_app_coordinates": {
     "h": 2,
     "w": 8,
     "x": 0,
     "y": 226
    },
    "deepnote_cell_type": "text-cell-p",
    "formattedRanges": [],
    "is_collapsed": false,
    "tags": []
   },
   "source": [
    "Through our OLS regression analysis, we can see that applicants that are Hispanic tend to have around 0.1% higher interest rate than white applicants. Alternatively, if we model the regression using black as our treatment variable, we can see that black applicants have 0.04% higher interest rate than white applicants. The problem with our model, however, is that our R squared is extremely low, which may suggests that our independent variables are uninformative of our dependent variable, interest rate. Lets have a look at how our independent variables correlate with the dependent variables."
   ]
  },
  {
   "cell_type": "code",
   "execution_count": null,
   "metadata": {
    "cell_id": "8aaa6bf7b7d54388a47a085d0973ef16",
    "deepnote_app_coordinates": {
     "h": 5,
     "w": 12,
     "x": 0,
     "y": 229
    },
    "deepnote_cell_type": "code",
    "deepnote_to_be_reexecuted": false,
    "execution_millis": 0,
    "execution_start": 1666042409992,
    "output_cleared": true,
    "source_hash": "e714661f",
    "tags": []
   },
   "outputs": [],
   "source": [
    "def scatterplot(df):\n",
    "\n",
    "    chart = alt.Chart(df).mark_point().encode(\n",
    "        x= alt.X('income'),\n",
    "        y= alt.Y('ln_interest_rate')\n",
    "    )\n",
    "    return chart"
   ]
  },
  {
   "cell_type": "code",
   "execution_count": null,
   "metadata": {
    "cell_id": "adc3fcdf58424dc7a741123e2019218e",
    "deepnote_app_coordinates": {
     "h": 5,
     "w": 12,
     "x": 0,
     "y": 235
    },
    "deepnote_cell_type": "code",
    "deepnote_to_be_reexecuted": false,
    "execution_millis": 686,
    "execution_start": 1666042409992,
    "output_cleared": false,
    "source_hash": "db361792",
    "tags": []
   },
   "outputs": [],
   "source": [
    "scatterplot(regression_df[regression_df.derived_race == 'Hispanic or Latino'])"
   ]
  },
  {
   "cell_type": "markdown",
   "metadata": {
    "cell_id": "88e42a9eefc34124bf74480484f7d4d3",
    "deepnote_app_coordinates": {
     "h": 2,
     "w": 8,
     "x": 0,
     "y": 241
    },
    "deepnote_cell_type": "text-cell-p",
    "formattedRanges": [],
    "is_collapsed": false,
    "tags": []
   },
   "source": [
    "Unfortunately, we were not able to find any variables that have strong relationships with interest rate. Which may prove this method to be quite futile. We will need to try a different method, the causal model test. "
   ]
  },
  {
   "cell_type": "markdown",
   "metadata": {
    "cell_id": "489dc2d9ce8e4c2385aaebe48e913df6",
    "deepnote_app_coordinates": {
     "h": 5,
     "w": 12,
     "x": 0,
     "y": 244
    },
    "deepnote_cell_type": "text-cell-h3",
    "formattedRanges": [],
    "is_collapsed": false,
    "tags": []
   },
   "source": [
    "### Average Treatment Effect"
   ]
  },
  {
   "cell_type": "markdown",
   "metadata": {
    "cell_id": "d7940e40523e4c0092f6618e356822a0",
    "deepnote_app_coordinates": {
     "h": 2,
     "w": 8,
     "x": 0,
     "y": 250
    },
    "deepnote_cell_type": "text-cell-p",
    "formattedRanges": [],
    "is_collapsed": false,
    "tags": []
   },
   "source": [
    "The goal of the causal model test is to explain the effects of our treatment variables on interest rate. We will be using the causal inference library for this analysis. Through causal modeling, it controls other independent variables (loan amount and income) by matching applicants from each group that have similar control variable values. By doing so, it only looks at a subgroup of our sample size where each group has similar loan amount and income. It then computes the average effects our treatment variable (minority groups) has on interest rate."
   ]
  },
  {
   "cell_type": "code",
   "execution_count": null,
   "metadata": {
    "cell_id": "2aa3c130bed44b2e835d4e8250c0f321",
    "deepnote_app_coordinates": {
     "h": 5,
     "w": 12,
     "x": 0,
     "y": 253
    },
    "deepnote_cell_type": "code",
    "deepnote_to_be_reexecuted": false,
    "execution_millis": 8823561,
    "execution_start": 1666042410683,
    "output_cleared": true,
    "source_hash": "beb1aecf",
    "tags": []
   },
   "outputs": [],
   "source": [
    "def avg_treat_effect(minority_group):\n",
    "    nontreatment = regression_df[regression_df.white == 1]  \n",
    "    treatment = regression_df[regression_df[minority_group]==1]\n",
    "    df = nontreatment.append(treatment)\n",
    "\n",
    "    Y= np.array(df.interest_rate)\n",
    "    D= np.array(df[minority_group])\n",
    "    X= np.array(df[['loan_amount', 'income']])\n",
    "\n",
    "    model= CausalModel(Y=Y, D=D, X=X)\n",
    "    model.est_via_matching()\n",
    "    return model.estimates['matching']['ate']\n"
   ]
  },
  {
   "cell_type": "code",
   "execution_count": null,
   "metadata": {
    "cell_id": "8549a9f058364794991da2ae47fbdf67",
    "deepnote_app_coordinates": {
     "h": 5,
     "w": 12,
     "x": 0,
     "y": 259
    },
    "deepnote_cell_type": "code",
    "deepnote_to_be_reexecuted": false,
    "execution_millis": 5431,
    "execution_start": 1666042410683,
    "output_cleared": false,
    "source_hash": "ee426f5d",
    "tags": []
   },
   "outputs": [],
   "source": [
    "avg_treat_effect('black')"
   ]
  },
  {
   "cell_type": "code",
   "execution_count": null,
   "metadata": {
    "cell_id": "c54c801382584dc39ffae4c61c6c9965",
    "deepnote_cell_type": "code",
    "deepnote_to_be_reexecuted": false,
    "execution_millis": 5302,
    "execution_start": 1666042416141,
    "source_hash": "b73588e3",
    "tags": []
   },
   "outputs": [],
   "source": [
    "avg_treat_effect('hispanic')"
   ]
  },
  {
   "cell_type": "code",
   "execution_count": null,
   "metadata": {
    "cell_id": "eecd349626db4616b5629dee9e0c75f2",
    "deepnote_cell_type": "code",
    "deepnote_to_be_reexecuted": false,
    "execution_millis": 4936,
    "execution_start": 1666042421175,
    "source_hash": "763b0986",
    "tags": []
   },
   "outputs": [],
   "source": [
    "avg_treat_effect('asian')"
   ]
  },
  {
   "cell_type": "markdown",
   "metadata": {
    "cell_id": "3fd00f4ad11648ff849e4a1abf24fb0a",
    "deepnote_app_coordinates": {
     "h": 2,
     "w": 8,
     "x": 0,
     "y": 265
    },
    "deepnote_cell_type": "text-cell-p",
    "formattedRanges": [],
    "is_collapsed": false,
    "tags": []
   },
   "source": [
    "By controlling for loan amount and income, we are comparing groups that are as similar as they can be except for the fact that one group are black applicants and the other being white applicants. In essence, we are now comparing apples to apples and through our results, we can see that the average affect of being a black applicant is a 0.09% increase to interest rate."
   ]
  },
  {
   "cell_type": "markdown",
   "metadata": {
    "cell_id": "b15b74b84d23424eb69dc9b03fcd6a6b",
    "deepnote_app_coordinates": {
     "h": 5,
     "w": 12,
     "x": 0,
     "y": 268
    },
    "deepnote_cell_type": "text-cell-h3",
    "formattedRanges": [],
    "is_collapsed": false,
    "tags": []
   },
   "source": [
    "### Violin Plot"
   ]
  },
  {
   "cell_type": "markdown",
   "metadata": {
    "cell_id": "13c2a4b196a4466d96589c218d816bed",
    "deepnote_app_coordinates": {
     "h": 2,
     "w": 8,
     "x": 0,
     "y": 274
    },
    "deepnote_cell_type": "text-cell-p",
    "formattedRanges": [],
    "is_collapsed": false,
    "tags": []
   },
   "source": [
    "Lets see the distribution of Interest Rate across all our racial groups. We will make a violin plot for easy comparison."
   ]
  },
  {
   "cell_type": "code",
   "execution_count": null,
   "metadata": {
    "cell_id": "57767a0ef7074bffa59e3c1b5565716c",
    "deepnote_app_coordinates": {
     "h": 5,
     "w": 12,
     "x": 0,
     "y": 277
    },
    "deepnote_cell_type": "code",
    "deepnote_to_be_reexecuted": false,
    "execution_millis": 75,
    "execution_start": 1666042426084,
    "output_cleared": false,
    "source_hash": "a19e4ae3",
    "tags": []
   },
   "outputs": [],
   "source": [
    "# Take samples of 1200 from each racial group. We do this because we cannot plot datasets with over 5000 rows.\n",
    "df_white_samp = df_white_approve.sample(1200, random_state = 42)\n",
    "df_asian_samp = df_asian_approve.sample(1200, random_state = 42)\n",
    "df_hispanic_samp = df_hispanic_approve.sample(1200, random_state = 42)\n",
    "df_black_samp = df_black_approve.sample(1200, random_state = 42)\n",
    "\n",
    "# Lets combine the Dataframes to one so that we may easily plot them using a single dataframe.\n",
    "violin_df = df_white_samp.append(df_asian_samp).append(df_hispanic_samp).append(df_black_samp)\n",
    "\n",
    "# Take the features we need or may need. We may not use all of them.\n",
    "violin_df= violin_df[['derived_race', 'loan_amount', 'interest_rate', 'income', 'debt_to_income_ratio']]"
   ]
  },
  {
   "cell_type": "markdown",
   "metadata": {
    "cell_id": "63e687d3c06e4401951b4d8d059e8e11",
    "deepnote_cell_type": "text-cell-p",
    "formattedRanges": [],
    "is_collapsed": false,
    "tags": []
   },
   "source": [
    "Lets make our Violin Chart."
   ]
  },
  {
   "cell_type": "code",
   "execution_count": null,
   "metadata": {
    "cell_id": "d1019c7236d64cc6a65a4f56ff0f4f3c",
    "deepnote_cell_type": "code",
    "deepnote_to_be_reexecuted": false,
    "execution_millis": 273,
    "execution_start": 1666042426160,
    "source_hash": "bd2c1bf8",
    "tags": []
   },
   "outputs": [],
   "source": [
    "# Construct Violin Chart.\n",
    "violins = alt.Chart().transform_density(\n",
    "    'interest_rate',\n",
    "    as_=['interest_rate','density'],\n",
    "    extent=[1, 5],\n",
    "    groupby=['derived_race']\n",
    ").mark_area(orient='horizontal').encode(\n",
    "    y=alt.Y('interest_rate:Q', title = '', axis=alt.Axis(tickCount=10, offset=10)),\n",
    "    color='derived_race:N',\n",
    "    x=alt.X(\n",
    "        'density:Q',\n",
    "        stack='center',\n",
    "        impute=None,\n",
    "        title=None,\n",
    "        axis=None #alt.Axis(labels=False, values=[0],grid=False, ticks=True),\n",
    "    ),\n",
    ")\n",
    "\n",
    "# Lets make quantile bars to see median, 25% quantiles, and 75% quantiles.\n",
    "# We will then facet the violin plots for each racial group to plot them next to each other.\n",
    "violins2=alt.layer(\n",
    "    violins,\n",
    "    alt.Chart().mark_boxplot(size=5, extent=0, outliers=False).encode(\n",
    "        y= alt.Y('interest_rate', title = 'Interest Rate'),\n",
    "        x= alt.value(46),\n",
    "        color=alt.value('black')),\n",
    ").properties(\n",
    "    width=100,\n",
    "    height= 500,\n",
    ").facet(\n",
    "    data=violin_df,\n",
    "    column=alt.Column(\n",
    "        'derived_race:N',\n",
    "    header=alt.Header(\n",
    "            title= 'Density Distribution of Interest Rate by Race',\n",
    "            titleFontSize = 24,\n",
    "            labels=False\n",
    "        ),\n",
    "    )\n",
    ").configure_facet(\n",
    "    spacing=0\n",
    ").configure_view(\n",
    "    stroke=None\n",
    ")\n",
    "\n",
    "# Give white background and minor configuration.\n",
    "violins2.configure(background='#FFFFFF').configure_axis(\n",
    "    grid=False).configure_view(\n",
    "    strokeWidth=0).configure_view(strokeOpacity=0)"
   ]
  },
  {
   "cell_type": "markdown",
   "metadata": {
    "cell_id": "7e455ef518dc46b79cf8e56512421ce1",
    "deepnote_cell_type": "text-cell-h3",
    "formattedRanges": [],
    "is_collapsed": false,
    "tags": []
   },
   "source": [
    "### Logistic Regression for Los Angeles County"
   ]
  },
  {
   "cell_type": "markdown",
   "metadata": {
    "cell_id": "a2f5f05ecca64780928d384826c16b5c",
    "deepnote_cell_type": "text-cell-p",
    "formattedRanges": [],
    "is_collapsed": false,
    "tags": []
   },
   "source": [
    "Lets look at a Binary Logistic Regression that computes how more likely Black, Asians, and Hispanics are to be denied a loan than White applicants. We will create and use dummy variables for joint (jointly filed application), White, Asian, Hispanic, Black, and Declined. The Declined Variable is 1 if the application is denied and 0 if approved, it will serve as our dependent variable. In addition, I computed log of income and log of loan amount to mimic the use of these control variables in the analysis done by Reveal News. I also converted the debt to income ratio from bins into a quantifiable variable. To do this, I took the percentage ranges that were represented as bins and gave it a value of the median of the range."
   ]
  },
  {
   "cell_type": "markdown",
   "metadata": {
    "cell_id": "31fba8e2-7cf5-4c61-856a-244249c9f78a",
    "deepnote_cell_type": "text-cell-p",
    "formattedRanges": [],
    "is_collapsed": false,
    "tags": []
   },
   "source": [
    "This Logistic Regression is to provide supplementary analysis to the LA HRS Map created in our other notebook. Please visit the notebook, 'LA HRS map'"
   ]
  },
  {
   "cell_type": "code",
   "execution_count": null,
   "metadata": {
    "cell_id": "e51da359ab75469eb4bc60b6ca21eadf",
    "deepnote_cell_type": "code",
    "deepnote_to_be_reexecuted": false,
    "execution_millis": 0,
    "execution_start": 1666042426483,
    "source_hash": "e4afd9cd",
    "tags": []
   },
   "outputs": [],
   "source": [
    "def log_reg_model(county_code):\n",
    "    # get county data\n",
    "    df = df_hm_cleaned.select('*')\\\n",
    "        .filter(df_hm_cleaned.county_code == county_code).toPandas()\n",
    "\n",
    "    # drop unneccessary columns. We no longer use interest because we are now observing declined loans as well.\n",
    "    df = df.drop(columns=[\n",
    "        'loan_purpose', \n",
    "        'occupancy_type', \n",
    "        'business_or_commercial_purpose', \n",
    "        'derived_dwelling_category', \n",
    "        'interest_rate', \n",
    "        'rate_spread'])\n",
    "\n",
    "    # clean data. Lets convert debt to income into something usable by subbing median of bin range.\n",
    "    df = df.replace({\n",
    "        'NA':np.nan, \n",
    "        'Exempt':np.nan, \n",
    "        '<20%':20,\n",
    "        '20%-<30%':25,\n",
    "        '30%-<36%': 33, \n",
    "        '50%-60%': 55, \n",
    "        '>60%':60}\n",
    "        ).dropna().astype({\n",
    "        'income':'float', \n",
    "        'loan_amount':'float',\n",
    "        'combined_loan_to_value_ratio':'float', \n",
    "        'action_taken':'int',\n",
    "        'debt_to_income_ratio':'int'})\n",
    "\n",
    "    # Applicants either are approved or declined. Lets move hispanic into race for simplicity purposes.\n",
    "    df = df[(df.action_taken==1) | (df.action_taken==3)]\n",
    "    df.loc[df.derived_ethnicity == 'Hispanic or Latino', 'derived_race'] = 'Hispanic or Latino'\n",
    "\n",
    "    # Make dummy variables for log regression\n",
    "    df['joint'] = np.where(df.derived_sex == 'Joint', 1, 0)\n",
    "    df['white'] = np.where(df.derived_race == 'White', 1, 0)\n",
    "    df['asian'] = np.where(df.derived_race == 'Asian', 1, 0)\n",
    "    df['black'] = np.where(df.derived_race == 'Black or African American', 1, 0)\n",
    "    df['hispanic'] = np.where(df.derived_race == 'Hispanic or Latino', 1, 0)\n",
    "    df['declined'] = np.where(df.action_taken == 3, 1, 0)\n",
    "\n",
    "    # Compute log income and log loan amount\n",
    "    df['ln_income'] = round(np.log(df.income * 1000),3)\n",
    "    df['ln_loan_amount'] = round(np.log(df.loan_amount),3)\n",
    "\n",
    "    # Due to the log function above, we have inf and nan values. So lets drop those.\n",
    "    df.replace([np.inf, -np.inf], np.nan, inplace=True)\n",
    "    df = df.dropna()\n",
    "\n",
    "    # Make logistic regression\n",
    "    log_function = \"declined~asian+black+hispanic+joint+ln_income+ln_loan_amount+debt_to_income_ratio\"\n",
    "    log_reg = smf.logit(log_function, data=df).fit()\n",
    "\n",
    "    return log_reg.summary()"
   ]
  },
  {
   "cell_type": "code",
   "execution_count": null,
   "metadata": {
    "cell_id": "434c4af5358545b3b27b55971f0938b2",
    "deepnote_cell_type": "code",
    "deepnote_to_be_reexecuted": false,
    "execution_millis": 38466,
    "execution_start": 1666042426483,
    "source_hash": "11446b8c",
    "tags": []
   },
   "outputs": [],
   "source": [
    "# code 06037 is Los Angeles County. Lets look at the data.\n",
    "log_reg_model('06037')"
   ]
  },
  {
   "cell_type": "markdown",
   "metadata": {
    "cell_id": "b81df975150649f88229813b4be9badc",
    "deepnote_cell_type": "text-cell-p",
    "formattedRanges": [],
    "is_collapsed": false,
    "tags": []
   },
   "source": [
    "To Interpret the results, all we need to do is take e to the power of the race coefficients. In our results, we can see that Black applicants are 1.5 times more likely to be denied a loan than White applicants. Hispanic applicants are 1.34 times more likely to be denied a loan than White applicants. Asian applicants are 0.77 times likely to be denied a loan than white applicants, in other words, they are 23% less likely to be denied a loan."
   ]
  },
  {
   "cell_type": "markdown",
   "metadata": {
    "cell_id": "bf9566dd-a154-4467-8295-b74bed0806ac",
    "deepnote_cell_type": "text-cell-p",
    "formattedRanges": [],
    "is_collapsed": false,
    "tags": []
   },
   "source": [
    "Unfortunately our P-values for Asian and Black are larger than 0.05%, therefore the coefficients are not statistically different than 0 (no effect)."
   ]
  }
 ],
 "metadata": {
  "deepnote": {},
  "deepnote_app_layout": "article",
  "deepnote_execution_queue": [],
  "deepnote_notebook_id": "e7ad52a451394d77b4903098b864efb9",
  "kernelspec": {
   "display_name": "Python 3 (ipykernel)",
   "language": "python",
   "name": "python3"
  },
  "language_info": {
   "codemirror_mode": {
    "name": "ipython",
    "version": 3
   },
   "file_extension": ".py",
   "mimetype": "text/x-python",
   "name": "python",
   "nbconvert_exporter": "python",
   "pygments_lexer": "ipython3",
   "version": "3.9.7"
  }
 },
 "nbformat": 4,
 "nbformat_minor": 4
}
